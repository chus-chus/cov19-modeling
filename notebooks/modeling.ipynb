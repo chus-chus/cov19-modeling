{
 "cells": [
  {
   "cell_type": "markdown",
   "metadata": {
    "id": "XYn4_ohjZTEr"
   },
   "source": [
    "### Model analysis\n",
    "\n",
    "Jesus Maria Antoñanzas\n",
    "\n",
    "Training, evaluation, fine-tuning and feature importance extracion of models."
   ]
  },
  {
   "cell_type": "code",
   "execution_count": null,
   "metadata": {
    "id": "2fRV-ANoZxoG"
   },
   "outputs": [],
   "source": [
    "# sklearn version needs to be >= 0.23.\n",
    "!pip install -U scikit-learn"
   ]
  },
  {
   "cell_type": "code",
   "execution_count": null,
   "metadata": {
    "id": "g6dZJe9zCVpe"
   },
   "outputs": [],
   "source": [
    "!pip install --upgrade shap\n",
    "\n",
    "import math\n",
    "import os\n",
    "import shap\n",
    "import torch\n",
    "\n",
    "import numpy as np\n",
    "import pandas as pd\n",
    "\n",
    "import pickle\n",
    "\n",
    "import matplotlib.pyplot as plt\n",
    "\n",
    "import torch.nn as nn\n",
    "import torch.optim as optim\n",
    "import torch.nn.functional as F\n",
    "import torch.utils.data as data\n",
    "\n",
    "from torch.utils.data.dataset import Dataset\n",
    "\n",
    "from sklearn.model_selection import train_test_split, cross_val_score, KFold\n",
    "from sklearn.feature_selection import VarianceThreshold\n",
    "from sklearn.experimental import enable_iterative_imputer\n",
    "from sklearn.impute import IterativeImputer, KNNImputer\n",
    "from sklearn.neighbors import KNeighborsClassifier\n",
    "from sklearn.preprocessing import OneHotEncoder, normalize\n",
    "from sklearn.metrics import roc_auc_score, f1_score, confusion_matrix\n",
    "from sklearn.utils import resample"
   ]
  },
  {
   "cell_type": "code",
   "execution_count": null,
   "metadata": {
    "colab": {
     "base_uri": "https://localhost:8080/"
    },
    "id": "KKJqFl6zCixl",
    "outputId": "6113cf2e-da85-4b73-c0e9-fdfaa87f2046"
   },
   "outputs": [
    {
     "name": "stdout",
     "output_type": "stream",
     "text": [
      "Mounted at /content/drive\n"
     ]
    }
   ],
   "source": [
    "from google.colab import drive\n",
    "if not os.path.exists(\"/content/drive\"):\n",
    "  drive.mount('/content/drive')"
   ]
  },
  {
   "cell_type": "code",
   "execution_count": null,
   "metadata": {
    "id": "NdrwmT2KwNHh"
   },
   "outputs": [],
   "source": [
    "# read pre-processed BUT not imputed full data (not stratified by age)\n",
    "fullDataPath = ''\n",
    "fullData = pd.read_csv(fullDataPath, index_col=0, dtype=int)"
   ]
  },
  {
   "cell_type": "code",
   "execution_count": null,
   "metadata": {
    "colab": {
     "base_uri": "https://localhost:8080/",
     "height": 226
    },
    "id": "vpGkPOy3M5vY",
    "outputId": "8afdfd9c-6877-4569-8ba0-3b996eb744e0"
   },
   "outputs": [
    {
     "data": {
      "text/html": [
       "<div>\n",
       "<style scoped>\n",
       "    .dataframe tbody tr th:only-of-type {\n",
       "        vertical-align: middle;\n",
       "    }\n",
       "\n",
       "    .dataframe tbody tr th {\n",
       "        vertical-align: top;\n",
       "    }\n",
       "\n",
       "    .dataframe thead th {\n",
       "        text-align: right;\n",
       "    }\n",
       "</style>\n",
       "<table border=\"1\" class=\"dataframe\">\n",
       "  <thead>\n",
       "    <tr style=\"text-align: right;\">\n",
       "      <th></th>\n",
       "      <th>fever</th>\n",
       "      <th>total_days_fever</th>\n",
       "      <th>tos</th>\n",
       "      <th>dysphonia</th>\n",
       "      <th>resp</th>\n",
       "      <th>tachypnea</th>\n",
       "      <th>ausc_resp</th>\n",
       "      <th>ausc_type</th>\n",
       "      <th>odynophagia</th>\n",
       "      <th>nasal_congestion</th>\n",
       "      <th>fatiga</th>\n",
       "      <th>headache</th>\n",
       "      <th>conjuntivitis</th>\n",
       "      <th>gi_symptoms</th>\n",
       "      <th>abdominal_pain</th>\n",
       "      <th>vomiting</th>\n",
       "      <th>dyarrea</th>\n",
       "      <th>dermatologic</th>\n",
       "      <th>rash</th>\n",
       "      <th>adenopathies</th>\n",
       "      <th>hemorrhagies</th>\n",
       "      <th>irritability</th>\n",
       "      <th>neuro</th>\n",
       "      <th>shock</th>\n",
       "      <th>taste_smell</th>\n",
       "      <th>smell</th>\n",
       "      <th>final_diagnosis_code</th>\n",
       "    </tr>\n",
       "  </thead>\n",
       "  <tbody>\n",
       "    <tr>\n",
       "      <th>0</th>\n",
       "      <td>1</td>\n",
       "      <td>1</td>\n",
       "      <td>1</td>\n",
       "      <td>0</td>\n",
       "      <td>1</td>\n",
       "      <td>1</td>\n",
       "      <td>1</td>\n",
       "      <td>1</td>\n",
       "      <td>0</td>\n",
       "      <td>1</td>\n",
       "      <td>0</td>\n",
       "      <td>0</td>\n",
       "      <td>0</td>\n",
       "      <td>0</td>\n",
       "      <td>0</td>\n",
       "      <td>0</td>\n",
       "      <td>0</td>\n",
       "      <td>0</td>\n",
       "      <td>0</td>\n",
       "      <td>0</td>\n",
       "      <td>0</td>\n",
       "      <td>-1</td>\n",
       "      <td>0</td>\n",
       "      <td>0</td>\n",
       "      <td>0</td>\n",
       "      <td>0</td>\n",
       "      <td>0</td>\n",
       "    </tr>\n",
       "    <tr>\n",
       "      <th>1</th>\n",
       "      <td>2</td>\n",
       "      <td>1</td>\n",
       "      <td>1</td>\n",
       "      <td>0</td>\n",
       "      <td>0</td>\n",
       "      <td>0</td>\n",
       "      <td>1</td>\n",
       "      <td>2</td>\n",
       "      <td>0</td>\n",
       "      <td>0</td>\n",
       "      <td>0</td>\n",
       "      <td>0</td>\n",
       "      <td>0</td>\n",
       "      <td>0</td>\n",
       "      <td>0</td>\n",
       "      <td>0</td>\n",
       "      <td>0</td>\n",
       "      <td>0</td>\n",
       "      <td>0</td>\n",
       "      <td>0</td>\n",
       "      <td>0</td>\n",
       "      <td>-1</td>\n",
       "      <td>0</td>\n",
       "      <td>0</td>\n",
       "      <td>0</td>\n",
       "      <td>0</td>\n",
       "      <td>0</td>\n",
       "    </tr>\n",
       "    <tr>\n",
       "      <th>2</th>\n",
       "      <td>2</td>\n",
       "      <td>2</td>\n",
       "      <td>0</td>\n",
       "      <td>0</td>\n",
       "      <td>0</td>\n",
       "      <td>0</td>\n",
       "      <td>0</td>\n",
       "      <td>0</td>\n",
       "      <td>1</td>\n",
       "      <td>0</td>\n",
       "      <td>0</td>\n",
       "      <td>0</td>\n",
       "      <td>0</td>\n",
       "      <td>0</td>\n",
       "      <td>0</td>\n",
       "      <td>0</td>\n",
       "      <td>0</td>\n",
       "      <td>0</td>\n",
       "      <td>0</td>\n",
       "      <td>0</td>\n",
       "      <td>0</td>\n",
       "      <td>-1</td>\n",
       "      <td>0</td>\n",
       "      <td>0</td>\n",
       "      <td>0</td>\n",
       "      <td>0</td>\n",
       "      <td>0</td>\n",
       "    </tr>\n",
       "    <tr>\n",
       "      <th>3</th>\n",
       "      <td>0</td>\n",
       "      <td>0</td>\n",
       "      <td>1</td>\n",
       "      <td>1</td>\n",
       "      <td>1</td>\n",
       "      <td>0</td>\n",
       "      <td>1</td>\n",
       "      <td>1</td>\n",
       "      <td>-1</td>\n",
       "      <td>0</td>\n",
       "      <td>0</td>\n",
       "      <td>-1</td>\n",
       "      <td>0</td>\n",
       "      <td>0</td>\n",
       "      <td>0</td>\n",
       "      <td>0</td>\n",
       "      <td>0</td>\n",
       "      <td>0</td>\n",
       "      <td>0</td>\n",
       "      <td>0</td>\n",
       "      <td>0</td>\n",
       "      <td>1</td>\n",
       "      <td>0</td>\n",
       "      <td>0</td>\n",
       "      <td>-1</td>\n",
       "      <td>-1</td>\n",
       "      <td>0</td>\n",
       "    </tr>\n",
       "    <tr>\n",
       "      <th>4</th>\n",
       "      <td>3</td>\n",
       "      <td>1</td>\n",
       "      <td>1</td>\n",
       "      <td>0</td>\n",
       "      <td>0</td>\n",
       "      <td>0</td>\n",
       "      <td>0</td>\n",
       "      <td>0</td>\n",
       "      <td>-1</td>\n",
       "      <td>1</td>\n",
       "      <td>0</td>\n",
       "      <td>-1</td>\n",
       "      <td>0</td>\n",
       "      <td>1</td>\n",
       "      <td>0</td>\n",
       "      <td>1</td>\n",
       "      <td>0</td>\n",
       "      <td>0</td>\n",
       "      <td>0</td>\n",
       "      <td>0</td>\n",
       "      <td>0</td>\n",
       "      <td>0</td>\n",
       "      <td>0</td>\n",
       "      <td>0</td>\n",
       "      <td>-1</td>\n",
       "      <td>-1</td>\n",
       "      <td>0</td>\n",
       "    </tr>\n",
       "  </tbody>\n",
       "</table>\n",
       "</div>"
      ],
      "text/plain": [
       "   fever  total_days_fever  tos  ...  taste_smell  smell  final_diagnosis_code\n",
       "0      1                 1    1  ...            0      0                     0\n",
       "1      2                 1    1  ...            0      0                     0\n",
       "2      2                 2    0  ...            0      0                     0\n",
       "3      0                 0    1  ...           -1     -1                     0\n",
       "4      3                 1    1  ...           -1     -1                     0\n",
       "\n",
       "[5 rows x 27 columns]"
      ]
     },
     "execution_count": 4,
     "metadata": {},
     "output_type": "execute_result"
    }
   ],
   "source": [
    "fullData.head()"
   ]
  },
  {
   "cell_type": "markdown",
   "metadata": {
    "id": "2TKt5TPGxhZP"
   },
   "source": [
    "### 1. Utility definitions\n",
    "\n",
    "We define functions that will be used during the process:\n",
    "\n",
    "- That undersamples data"
   ]
  },
  {
   "cell_type": "code",
   "execution_count": null,
   "metadata": {
    "id": "ngpImRDxCpK3"
   },
   "outputs": [],
   "source": [
    "def undersample_data(X, y, randomState, negProp=0.5):\n",
    "  \"\"\" Undersample data.\n",
    "    :param X: (ndarray) data to undersample.\n",
    "    :param y: (ndarray) binary ground truth labels.\n",
    "    :param randomState: (int) random state.\n",
    "    :param negProp: (float) float between 0 and 1 indicating the proportion\n",
    "                    of negative samples desired. Default: 0.5 \"\"\"\n",
    "\n",
    "  rng = np.random.default_rng(randomState)\n",
    "  nPositive = sum(y)\n",
    "  nNegative = len(y) - nPositive\n",
    "  sampleSize = round((negProp * nPositive) / (1 - negProp))\n",
    "  if sampleSize > nNegative:\n",
    "    raise Exception('There are not that many negative samples in the data')\n",
    "  chosenNegatives = rng.choice(list(range(nNegative)), size=sampleSize)\n",
    "  XNeg, yNeg = X[y == 0][chosenNegatives], y[y == 0][chosenNegatives]\n",
    "  X = np.concatenate((X[y == 1], XNeg))\n",
    "  y = np.concatenate((y[y == 1], yNeg))\n",
    "\n",
    "  # shuffle\n",
    "  shuffler = rng.permutation(len(y))\n",
    "  X = X[shuffler]\n",
    "  y = y[shuffler]\n",
    "  \n",
    "  return X, y\n",
    "\n",
    "def remove_variance(data: pd.DataFrame, pctThreshold: float) -> pd.DataFrame:\n",
    "  \"\"\" Delete columns from data that comprise less than 'threshold'% of variance. \"\"\"\n",
    "  sel = VarianceThreshold()\n",
    "\n",
    "  dataNan = data.copy()\n",
    "  dataNan[dataNan == -1] = np.NaN\n",
    "\n",
    "  # fit to compute threshold variance percentile\n",
    "  sel.fit(dataNan)\n",
    "  # l1 normalisation (sum to 1)\n",
    "  normVars = normalize(sel.variances_.reshape(1, -1), norm='l1').squeeze()\n",
    "\n",
    "  threshold = np.max(sel.variances_[normVars < pctThreshold])\n",
    "  sel = VarianceThreshold(threshold=threshold)\n",
    "  dataThres = sel.fit_transform(dataNan)\n",
    "\n",
    "  a = np.sort(np.array(list(zip(sel.variances_, data.columns))))\n",
    "  print(a)\n",
    "  delCols = {data.columns[i]: round(normVars[i], 5) for i in np.where(sel.variances_ <= threshold)[0]}\n",
    "  print(f'Deleted {len(delCols)} variables: {delCols}')\n",
    "\n",
    "  return data.loc[:, set(data.columns) - set(data.columns[np.where(sel.variances_ <= threshold)[0]])]"
   ]
  },
  {
   "cell_type": "markdown",
   "metadata": {
    "id": "AlgUPri73U5e"
   },
   "source": [
    " ## 2. Training pipeline\n",
    "\n",
    "We define a function that performs the following procedure for some model type (SVM, NN, XGBoost...) and some manually defined hyperparam. configurations.\n",
    "\n",
    "Algorithm 1 (Modeling):\n",
    "\n",
    "1. Split the data into training (TOTAL) and test.\n",
    "2. For each Cross Validation Repeat:\n",
    "  2.1. For each Cross Validation fold:\n",
    "    - split training (TOTAL) into training and validation.\n",
    "    - impute training ALONE -> impute validation WITH training\n",
    "    - one-hot both training and validation\n",
    "    - undersample the training data\n",
    "    - For each hyperparam configuration:\n",
    "        - train model on training data\n",
    "        - compute AUC, sensitivity, specificity, precision, F1 on validation data\n",
    "3. Pick best configurations by performing pairwise t-tests with the obtained metrics\n",
    "3. Average and save metrics for each config. across folds and CV repeats.\n",
    "4. Impute training (TOTAL) -> Impute test WITH training (TOTAL)\n",
    "5. Onehot training (TOTAL) and test\n",
    "6. Undersample training (TOTAL)\n",
    "7. Pick the best config. and boostrap to obtain test Confidence Intervals: train model with training (TOTAL) and evaluate on test\n",
    "8. Return best config and evaluation metrics\n",
    "\n",
    "Note that the imputation is performed in steps to prevent information leakage from the validation / test sets to the training sets. Moreover, the onehot is performed after imputing imputation because if it was the other way around the imputation would have to deal with more features.\n"
   ]
  },
  {
   "cell_type": "code",
   "execution_count": null,
   "metadata": {
    "id": "jkHdi3ox_dUQ"
   },
   "outputs": [],
   "source": [
    "from numpy import median\n",
    "from numpy import percentile\n",
    "from scipy.stats import ttest_rel\n",
    "\n",
    "\n",
    "def eval_model(modelClass, trainingData, testData, configs, inputNNeigh=5,\n",
    "               missingVal=-1, target='final_diagnosis_code', nCVs=5, CVFolds=2, \n",
    "               USnegProp=0.5, nBootstraps=100, bootstrapTest=True, imputeMaxIter=5, \n",
    "               verbose=True, randomState=888):\n",
    "  \"\"\" CV Training and evaluation pipeline that follows the procedure described above \n",
    "  (not including split into training and validation) with some predefined configurations.\n",
    "\n",
    "  Prints the best found configuration and performance metrics. The best configuration\n",
    "  is found with 5 x 2-fold CV and comparing average validation AUCs with paired t-tests as \n",
    "  recommended in https://ieeexplore.ieee.org/document/6790639\n",
    "\n",
    "  :param modelClass: (model method) Model class to test configurations on. Note that the parameter\n",
    "                     should not be the initialized model, but rather the instancer\n",
    "                     (i.e. 'network' instead of 'network()'). The class must implement\n",
    "                     a 'fit(X, y)' training method, as well as a 'predict(X)' method for class\n",
    "                     prediction, which returns the predicted label for a batch of\n",
    "                     instances X. \n",
    "  :param trainingData: (pd.DataFrame) training dataset. \n",
    "  :param testData: (pd.DataFrame) test dataset. \n",
    "  :param configs: (iterable of dicts) Iterable containing the different model \n",
    "                  configurations. Each configuration must be a dictionary with\n",
    "                  the keys being the exact parameter names and the entries\n",
    "                  being the desired parameter value. Note that the configurations\n",
    "                  must be able to be done via the initialization of a 'modelClass' \n",
    "                  instance.\n",
    "  :param OHEncoder: (sklearn.preprocessing.OneHotEncoder) Fitted one-hot encoder.\n",
    "  :param inputNNeigh: (int, optional) number of instances considered when imputing with KNN.\n",
    "  :param missingVal: (int, optional) value that represents a missing in the data.\n",
    "  :param target: (str, optional) name of the target column.\n",
    "  :param nCVs: (int, optional) number of times the cross validation is repeated\n",
    "    (with different data in the folds).\n",
    "  :param CVFolds: (int, optional) number of cross validation folds.\n",
    "  :param USnegProp: (float) float between 0 and 1 indicating the proportion of \n",
    "                    negative samples when undersampling.\n",
    "  :param nBootstraps: (int) number of bootstrap rounds\n",
    "  :param bootstrapTest: (bool, default True) should CIs be extracted from test via bootstrapping?\n",
    "  :param imputeMaxIter: (int) maximum iterations of iterative imputer.\n",
    "  :param verbose: (bool, default True) Print info. during the execution?\n",
    "  :param randomState: (int, optional) random state for all purposes.\n",
    "  :return: bestAUCs (list), valMetrics (dict), testMetrics (dict), CIs (dict of tuples), \n",
    "           config (dict), trainedModel (callable), trainData (list), \n",
    "           testData (list), OHFeatureNames (list):\n",
    "           - bestAUCs: list with the CV validation AUCs of length nCVs * CVFolds\n",
    "           - valMetrics: average evaluation metrics on the CV validation sets of the best configuration.\n",
    "           - testMetrics: median bootstrap evaluation (if bootstrapTest=True) \n",
    "           or single (if bootstrapTest=False) metrics on the test set given all of the training data of the best configuration\n",
    "           - CIs: confidence intervals @95% for the test metrics (only if bootstrapTest=True)\n",
    "           - config: best parameter configuration. \n",
    "           - trainedModel: model instance trained with the best configuration that\n",
    "                           was used to compute the test scores. \n",
    "           - trainData: X and y, data used to train the best model (undersampled and imputed). \n",
    "           - testData: X and y, data used to test the best model (imputed) \n",
    "           - OHfeatureNames: list of strs. representing the feature names of the OH\n",
    "                             representation of the data. \"\"\"\n",
    "\n",
    "  rng = np.random.default_rng(randomState)\n",
    "\n",
    "  # fit a one-hot encoder with all the possible features in the data (without the target)\n",
    "  # because the dataset has missing values (-1), we first replace them with an existing value (0). \n",
    "  # This deletion is local and only done to initialise the encoder: the missing values will\n",
    "  # be imputed further down the pipeline.\n",
    "  # This step does not create information leakage.\n",
    "  OHEncoder = OneHotEncoder(sparse=False, drop='first')\n",
    "  OHEncoder.fit(pd.concat((trainingData, testData), axis=0)\n",
    "                          .drop(target, axis=1)\n",
    "                          .replace(to_replace=-1, value=0))\n",
    "\n",
    "  # for each config we will have a dict. containing the specific configuration\n",
    "  # and its performance metrics across the CV pipeline\n",
    "  baseMetrics = {'AUC': 0, 'prec': 0, 'sensitivity': 0, 'specificity': 0, 'F1': 0}\n",
    "  allMetrics = [{**config, **baseMetrics} for config in configs]\n",
    "\n",
    "  # we will need arrays with the results for the statistical tests.\n",
    "  for i in range(len(configs)):\n",
    "    allMetrics[i]['AUC'] = []\n",
    "\n",
    "  # split target and data and transform to numpy\n",
    "  yTrainTotal = trainingData.loc[:, target].to_numpy(dtype=int)\n",
    "  XTrainTotal = trainingData.drop(target, axis=1)\n",
    "\n",
    "  if verbose:\n",
    "    print(XTrainTotal.columns)\n",
    "\n",
    "  XTrainTotal = XTrainTotal.to_numpy()\n",
    "\n",
    "  yTest = testData.loc[:, target].to_numpy(dtype=int)\n",
    "  XTest = testData.drop(target, axis=1).to_numpy()\n",
    "\n",
    "  for nCV in range(nCVs):\n",
    "    # pre-split training data into folds\n",
    "    folds = KFold(n_splits=CVFolds, shuffle=True, random_state=randomState+nCV)\n",
    "    if verbose:\n",
    "      print(f'\\n{nCV+1}/{nCVs} CV')\n",
    "    foldIndex = 0\n",
    "    for trainIndexes, valIndexes in folds.split(XTrainTotal):\n",
    "      if verbose:\n",
    "        print(f'\\nFold {foldIndex+1}/{CVFolds}...')\n",
    "      # get actual CV splits\n",
    "      XTrain, XVal = XTrainTotal[trainIndexes], XTrainTotal[valIndexes]\n",
    "      yTrain, yVal = yTrainTotal[trainIndexes], yTrainTotal[valIndexes]\n",
    "      # impute training first and then validation with training in mind\n",
    "      # to prevent information leakage\n",
    "      maxValueTrainInput = np.max(XTrain, axis=0)\n",
    "      maxValueValInput = np.max(np.concatenate((XTrain, XVal), axis=0), axis=0)\n",
    "      \n",
    "      for i in range(len(maxValueTrainInput)):\n",
    "        if maxValueTrainInput[i] == 0:\n",
    "          # variable does not have multiple levels. Set its max. value to 1 as \n",
    "          # a minor hack to the IterativeImputer -> it raises an error if min and\n",
    "          # max value is the same. This does not make it impute invalid values.\n",
    "          maxValueTrainInput[i] = 1\n",
    "        if maxValueValInput[i] == 0:\n",
    "          maxValueValInput[i] = 1\n",
    "\n",
    "      imputer = IterativeImputer(estimator=KNeighborsClassifier(n_neighbors=inputNNeigh),\n",
    "                                missing_values=missingVal,\n",
    "                                initial_strategy='median',\n",
    "                                min_value=0,\n",
    "                                max_value=maxValueTrainInput,\n",
    "                                max_iter=imputeMaxIter,\n",
    "                                skip_complete=True,\n",
    "                                random_state=randomState)\n",
    "      XTrain = imputer.fit_transform(XTrain)\n",
    "      imputer = IterativeImputer(estimator=KNeighborsClassifier(n_neighbors=inputNNeigh),\n",
    "                                missing_values=missingVal,\n",
    "                                initial_strategy='median',\n",
    "                                min_value=0,\n",
    "                                max_value=maxValueValInput,\n",
    "                                skip_complete=True,\n",
    "                                max_iter=imputeMaxIter,\n",
    "                                random_state=randomState)\n",
    "      XVal = imputer.fit(np.concatenate((XTrain, XVal), axis=0)).transform(XVal)\n",
    "\n",
    "      # one-hot imputed data\n",
    "      XTrain = OHEncoder.transform(XTrain)\n",
    "      XVal = OHEncoder.transform(XVal)\n",
    "      # undersample the training split\n",
    "      XTrain, yTrain = undersample_data(XTrain, yTrain, rng, negProp=USnegProp)\n",
    "      # for each config, train and validate\n",
    "      configIndex = 0\n",
    "      for config in configs:\n",
    "        configMetrics = baseMetrics\n",
    "        # train model\n",
    "        model = modelClass(**config)\n",
    "        model.fit(XTrain, yTrain)\n",
    "        preds = model.predict(XVal)\n",
    "        # compute validation metrics\n",
    "        tn, fp, fn, tp = confusion_matrix(yVal, preds).ravel()\n",
    "        configMetrics['AUC'] = [roc_auc_score(yVal, preds)]\n",
    "        configMetrics['prec'] = tp / (tp + fp)\n",
    "        configMetrics['sensitivity'] = tp / (tp + fn)\n",
    "        configMetrics['specificity'] = tn / (tn + fp)\n",
    "        configMetrics['F1'] = f1_score(yVal, preds)\n",
    "        for metric in baseMetrics.keys():\n",
    "            allMetrics[configIndex][metric] += configMetrics[metric]\n",
    "        configIndex += 1\n",
    "      foldIndex += 1\n",
    "\n",
    "  # Get best configurations by statistically comparing the resulting AUCs\n",
    "  bestAUCs = [-1 for _ in range(nCVs * CVFolds)]\n",
    "  bestConfig = None\n",
    "  bestPVal = np.inf\n",
    "  bestConfigIndex = -1\n",
    "\n",
    "  for i, configMetrics in enumerate(allMetrics):\n",
    "    for metric in baseMetrics.keys():\n",
    "      if metric != 'AUC':\n",
    "        configMetrics[metric] /= nCVs * CVFolds\n",
    "\n",
    "    # paired t-test\n",
    "    pVal = ttest_rel(configMetrics['AUC'], bestAUCs)[1]\n",
    "    if i == 0:\n",
    "      firstPVal = pVal\n",
    "    if pVal <= 0.05 and np.mean(configMetrics['AUC']) > np.mean(bestAUCs):\n",
    "      bestAUCs = configMetrics['AUC']\n",
    "      bestConfig = configMetrics\n",
    "      bestPVal = pVal\n",
    "      bestConfigIndex = i\n",
    "\n",
    "  if verbose:\n",
    "    if firstPVal == bestPVal:\n",
    "      print(f'First configuration appears to perform as well as the others (no statistical difference between configurations).')\n",
    "    else:\n",
    "      print(f'\\nFound best configuration with p-value {round(bestPVal, 5)}')\n",
    "\n",
    "  bestConfig['AUC'] = np.mean(bestConfig['AUC'])\n",
    "\n",
    "  if verbose:\n",
    "    print('Imputing full train dataset...')\n",
    "  # impute whole train data (without splitting for CV) and test\n",
    "  maxValueTrainTotalInput = np.max(XTrainTotal, axis=0)\n",
    "  maxValueTestInput = np.max(np.concatenate((XTrainTotal, XTest), axis=0), axis=0)\n",
    "\n",
    "  tr, ts = None, None\n",
    "  for i in range(len(maxValueTrainTotalInput)):\n",
    "    if maxValueTrainTotalInput[i] == 0:\n",
    "      # variable does not have multiple levels, so maximum value needs to be bigger\n",
    "      # than the minimum. The variable will be imputed with the same level, so\n",
    "      # this does not introduce wrong levels.\n",
    "      maxValueTrainTotalInput[i] = 1\n",
    "      tr = i\n",
    "    if maxValueTestInput[i] == 0:\n",
    "      maxValueTestInput[i] = 1\n",
    "      ts = i\n",
    "\n",
    "  imputer = IterativeImputer(estimator=KNeighborsClassifier(n_neighbors=inputNNeigh),\n",
    "                             missing_values=missingVal,\n",
    "                             initial_strategy='median',\n",
    "                             min_value=0,\n",
    "                             max_value=maxValueTrainTotalInput,\n",
    "                             skip_complete=True,\n",
    "                             max_iter=imputeMaxIter,\n",
    "                             random_state=randomState)\n",
    "  XTrainTotal = imputer.fit_transform(XTrainTotal)\n",
    "  imputer = IterativeImputer(estimator=KNeighborsClassifier(n_neighbors=inputNNeigh),\n",
    "                             missing_values=missingVal,\n",
    "                             initial_strategy='median',\n",
    "                             min_value=0,\n",
    "                             max_value=maxValueTestInput,\n",
    "                             skip_complete=True,\n",
    "                             max_iter=imputeMaxIter,\n",
    "                             random_state=randomState)\n",
    "  XTest = imputer.fit(np.concatenate((XTrainTotal, XTest), axis=0)).transform(XTest)\n",
    "\n",
    "  # one hot whole train and test datasets\n",
    "  XTrainTotal = OHEncoder.transform(XTrainTotal)\n",
    "  XTest = OHEncoder.transform(XTest)\n",
    "\n",
    "  # undersample\n",
    "  XTrainTotal, yTrainTotal = undersample_data(XTrainTotal, yTrainTotal, rng, negProp=USnegProp)\n",
    "\n",
    "  if bootstrapTest is True and verbose:\n",
    "    print('\\nBootstrapping test...')\n",
    "  elif bootstrapTest is False:\n",
    "    nBootstraps = 1\n",
    "\n",
    "  metricsTest = {'AUC': [], 'prec': [], 'sensitivity': [], 'specificity': [], 'F1': []}\n",
    "  for i in range(nBootstraps):\n",
    "      XBoots, yBoots = resample(XTrainTotal, yTrainTotal, random_state=randomState+i)\n",
    "\n",
    "      # train best configuration with the bootstrapped training set and \n",
    "      # get metrics for the test data\n",
    "      bestModel = modelClass(**configs[bestConfigIndex])\n",
    "      bestModel.fit(XBoots, yBoots)\n",
    "      preds = bestModel.predict(XTest)\n",
    "      tn, fp, fn, tp = confusion_matrix(yTest, preds).ravel()\n",
    "      metricsTest['AUC'].append(roc_auc_score(yTest, preds))\n",
    "      metricsTest['prec'].append(tp / (tp + fp))\n",
    "      metricsTest['sensitivity'].append(tp / (tp + fn))\n",
    "      metricsTest['specificity'].append(tn / (tn + fp))\n",
    "      metricsTest['F1'].append(f1_score(yTest, preds))\n",
    "\n",
    "  if bootstrapTest is True:\n",
    "    # get 95% confidence intervals\n",
    "    alpha = 5\n",
    "    lowerP = alpha / 2\n",
    "    upperP = (100 - alpha) + (alpha / 2)\n",
    "    CIs = {}\n",
    "    for metric, values in metricsTest.items():\n",
    "      CIs[metric] = (percentile(values, lowerP), percentile(values, upperP))\n",
    "      metricsTest[metric] = median(values)    \n",
    "\n",
    "    return bestAUCs, {valMetric: bestConfig[valMetric] for valMetric in baseMetrics.keys()}, \\\n",
    "          metricsTest, CIs, configs[bestConfigIndex], bestModel, [XTrainTotal, yTrainTotal], \\\n",
    "          [XTest, yTest], OHEncoder.get_feature_names(trainingData.drop(target, axis=1).columns)\n",
    "\n",
    "  else:\n",
    "    # w/o confidence intervals if we do not have bootstrapping\n",
    "    return bestAUCs, {valMetric: bestConfig[valMetric] for valMetric in baseMetrics.keys()}, \\\n",
    "          metricsTest, configs[bestConfigIndex], bestModel, [XTrainTotal, yTrainTotal], \\\n",
    "          [XTest, yTest], OHEncoder.get_feature_names(trainingData.drop(target, axis=1).columns)"
   ]
  },
  {
   "cell_type": "markdown",
   "metadata": {
    "id": "3c4xzSTUUuWi"
   },
   "source": [
    "## 3. Model evaluation pipeline\n",
    "\n",
    "We search for the best configuration for some model architectures given the following data sets:\n",
    "\n",
    "- Full data set (no age strata)\n",
    "- Ages 0 to 5 data set\n",
    "- Ages 6 to 17 data set\n",
    "\n",
    "\n",
    "First, an example of how the eval_model function works with the XGBoost architecture:"
   ]
  },
  {
   "cell_type": "code",
   "execution_count": null,
   "metadata": {
    "id": "pe04y5a5bD8Q"
   },
   "outputs": [],
   "source": [
    "from xgboost.sklearn import XGBClassifier\n",
    "\n",
    "# let us define 70 / 30 train test splits\n",
    "randomState = 888\n",
    "rng = np.random.default_rng(randomState)\n",
    "trainIndexes = rng.choice([True, False], size=len(fullData), p=[0.7, 0.3])\n",
    "fullDataTrain, fullDataTest = fullData[trainIndexes], fullData[~trainIndexes]\n",
    "\n",
    "# common parameter values\n",
    "inputNNeigh = 10\n",
    "missingVal = -1\n",
    "nCVs = 5\n",
    "CVFolds = 2\n",
    "USnegProp = 0.5\n",
    "imputeMaxIter = 5\n",
    "\n",
    "# XGBoost config options\n",
    "XGBGrid = {'learning_rate': [0.1, 0.01, 0.001],\n",
    "           'n_estimators': [100, 300, 500],\n",
    "           'max_depth': [2, 4, 6, 8],\n",
    "           'subsample': [0.25, 0.5, 0.8],\n",
    "           'random_state': [randomState]}\n",
    "\n",
    "# n random configurations\n",
    "n = 2\n",
    "rng = np.random.default_rng(randomState)\n",
    "XGBConfigs = [{paramKey: rng.choice(XGBGrid[paramKey], size=1).item() for paramKey in XGBGrid.keys()} for _ in range(n)]\n",
    "\n",
    "# evaluate\n",
    "bestAUCs, valMetrics, testMetrics, CIs, bestConfig, \\\n",
    "trainedModel, trainData, testData, fNames = eval_model(modelClass=XGBClassifier, \n",
    "                                                        trainingData=fullDataTrain, \n",
    "                                                        testData=fullDataTest, \n",
    "                                                        configs=XGBConfigs,\n",
    "                                                        inputNNeigh=inputNNeigh,\n",
    "                                                        missingVal=missingVal,\n",
    "                                                        nCVs=nCVs,\n",
    "                                                        CVFolds=CVFolds,\n",
    "                                                        USnegProp=USnegProp,\n",
    "                                                        imputeMaxIter=imputeMaxIter,\n",
    "                                                        randomState=randomState)\n",
    "print()\n",
    "print(bestAUCs)\n",
    "print(valMetrics)\n",
    "print(testMetrics)\n",
    "print(CIs)\n",
    "print(bestConfig)\n",
    "print(trainedModel)"
   ]
  },
  {
   "cell_type": "code",
   "execution_count": null,
   "metadata": {
    "id": "vdu85Yf6Y4nY"
   },
   "outputs": [],
   "source": [
    "def eval_model_pipeline(modelClasses, modelConfigs, trainingData, testData, **kwargs):\n",
    "  \"\"\" Measures performance of multiple model architectures with different \n",
    "      configurations following Algorithm 1.\n",
    "\n",
    "  :param modelClasses: (list-like of model methods) methods to evaluate. Each element\n",
    "                       of the collection is the model instancer (i.e. 'network' \n",
    "                       instead of 'network()'). Each class must implement\n",
    "                       a 'fit(X, y)' training method, as well as a 'predict(X)' \n",
    "                       method for class prediction, which returns the predicted \n",
    "                       label for a batch of instances X. \n",
    "  :param modelConfigs: (2D list-like of dicts) A list containing, for each modelClass, \n",
    "                       a list of architecture configurations represented as dicts.\n",
    "                       modelConfigs[i] corresponds to the configurations for modelClasses[i].\n",
    "  :param trainingData: (pd.DataFrame) Unimputed and unbalanced training data (including the target).\n",
    "  :param testData: (pd.DataFrame) Unimputed test data (including the target).\n",
    "  :param kwargs: extra keyword arguments that will be passed onto 'eval_model()'.\n",
    "  :return: (pd.DataFrame, pd.DataFrame, dict of dicts, dict of callables, list, list)\n",
    "           - average validation evaluation metrics\n",
    "           - test evaluation metrics for the best configuration of each model \n",
    "             class in 'modelClasses' with 95% confidence intervals\n",
    "           - best performing configurations for each model class in 'modelClasses' \n",
    "           - the trained models used to compute the test scores, respectively. \n",
    "           - trainData (X and y) used to train all of the models (imputed and undersampled) \n",
    "           - testData (X and y) used to test all of the best models configurations. (imputed) \"\"\"\n",
    "\n",
    "  resEntries = ['Arch', 'AUC', 'AUC CIs', 'sensitivity', 'sensitivity CIs', \n",
    "                'specificity', 'specificity CIs', 'prec', 'prec CIs', 'F1', 'F1 CIs']\n",
    "\n",
    "  valEntries = ['Arch', 'AUC', 'prec', 'sensitivity', 'specificity', 'F1']\n",
    "\n",
    "  bestArchitectures = {}\n",
    "  trainedModels = {}\n",
    "\n",
    "  resVal = []\n",
    "  resTest = []\n",
    "  for i, modelClass in enumerate(modelClasses):\n",
    "    print(f'\\nEvaluating {modelClass}')\n",
    "    _, valScores, testScores, CIs, bestConfig, \\\n",
    "    trainedModel, finalTrData, finalTestData, OHfNames = eval_model(modelClass=modelClass, \n",
    "                                                                    configs=modelConfigs[i], \n",
    "                                                                    testData=testData, \n",
    "                                                                    trainingData=trainingData,\n",
    "                                                                    bootstrapTest=True,\n",
    "                                                                    verbose=True,\n",
    "                                                                    **kwargs)\n",
    "    valScores['Arch'] = str(modelClass)\n",
    "    testScores['Arch'] = str(modelClass)\n",
    "\n",
    "    resValModel = []\n",
    "    resTestModel = []\n",
    "\n",
    "    for metric in valEntries:\n",
    "      resValModel.append(valScores[metric])\n",
    "    resVal.append(resValModel)\n",
    "\n",
    "    for metric in valEntries:\n",
    "      if metric == 'Arch':\n",
    "        resTestModel.append(testScores[metric])\n",
    "      else:\n",
    "        resTestModel.append(testScores[metric])\n",
    "        resTestModel.append(CIs[metric])\n",
    "    resTest.append(resTestModel)\n",
    "\n",
    "    bestArchitectures[str(modelClass)] = bestConfig\n",
    "    trainedModels[str(modelClass)] = trainedModel\n",
    "\n",
    "  resultsVal = pd.DataFrame(data=resVal, columns=valEntries)\n",
    "  resultsTest = pd.DataFrame(data=resTest, columns=resEntries)\n",
    "  \n",
    "  return resultsVal, resultsTest, bestArchitectures, trainedModels, finalTrData,\\\n",
    "         finalTestData, OHfNames"
   ]
  },
  {
   "cell_type": "markdown",
   "metadata": {
    "id": "HqJsCHB92iiX"
   },
   "source": [
    "Definition of architectures to use, hyperparameters and configurations to try. \n",
    "\n",
    "---\n",
    "\n"
   ]
  },
  {
   "cell_type": "markdown",
   "metadata": {
    "id": "R15pic2Qt86x"
   },
   "source": [
    "### 3.1 Custom FCNN architecture"
   ]
  },
  {
   "cell_type": "code",
   "execution_count": null,
   "metadata": {
    "id": "Z8i6yqzyEXPT"
   },
   "outputs": [],
   "source": [
    "import torch\n",
    "import torch.nn as nn\n",
    "import torch.nn.functional as F\n",
    "\n",
    "\n",
    "class MLP(nn.Module):\n",
    "    \"\"\" Fully connected network (Multi-layer perceptron) semi-skeleton. The size of intemediate layers need to be defined.\n",
    "    This class is meant to be trained with its .fit method. \"\"\"\n",
    "\n",
    "    def __init__(self, linearLayerSizes, nDropOutLayers=0.5, dropOutP=0.1, \n",
    "                 batchSize=15, nEpochs=30, initLR=1e-3, activation='relu', randomState=888):\n",
    "      \"\"\" dropOut layers will be randomly applied to some of the provided Linear Layers.\n",
    "      ReLU activations will follow all linear layers. The model will return probabilities.\n",
    "\n",
    "      :param linearLayerSizes: (array-like) array containing the input and output sizes of \n",
    "      the intermediate nn.Linear layers as multipliers of the number of features in the data, \n",
    "      in order of execution. Note that the first and last layers are already implemented: \n",
    "      first layer casts to size round(inputOutputScale*inputSize), last layer casts from size\n",
    "      round(inputOutputScale*inputSize). inputOutputScale will be induced from the first\n",
    "      entry of the first linear layer in linearLayerSizes. The following is a correct example of linearLayerSizes, \n",
    "      equivalent to having intermediate Linear layers of shapes (round(inputScale*inputSize), 2*inputSize)\n",
    "      and (2*inputSize, round(outputScale*inputSize)):\n",
    "\n",
    "      >>> linearLayerSizes = [(inputScale, 2), (2, outputScale)]\n",
    "\n",
    "      :param nDropOutLayers: (int or float) if int, indicates the number of intemediate linear\n",
    "      layers that will be followed by a dropout <= len(linearLayerSizes). If float,\n",
    "      it will indicate the percentage of linear layers that will be followed by a dropout\n",
    "      and ceil(len(linearLayerSizes) * nDropOutLayers) will be picked. In both cases, which\n",
    "      layers are followed by the dropout will be randomly chosen.\n",
    "      :param dropOutP: (float) percentage of dropout for the picked layers. \n",
    "      :param batchSize: (int) batch size for training \n",
    "      :param nEpochs: (float) number of epochs used for training \n",
    "      :param initLR: (float) initial learning rate for the adaptive optimizer \n",
    "      :param activation: (str) Nonlinear activation function to use:\n",
    "        - 'relu': rectified linear unit \n",
    "        - 'rrelu': randomized leaky rectified linear unit\n",
    "        - 'sigmoid': sigmoid\n",
    "        - 'tanh': hyperbolic tangent\"\"\"\n",
    "\n",
    "      super(MLP, self).__init__()\n",
    "      torch.manual_seed(randomState)  \n",
    "\n",
    "      if activation == 'relu':\n",
    "        self.activation = F.relu\n",
    "      elif activation == 'rrelu':\n",
    "        self.activation = F.rrelu\n",
    "      elif activation == 'sigmoid':\n",
    "        self.activation = torch.sigmoid\n",
    "      elif activation == 'tanh':\n",
    "        self.activation = torch.tanh\n",
    "      else:\n",
    "        raise ValueError(f\"{activation} activation not valid. Use one in {['relu', 'rrelu', 'sigmoid', 'tanh']}\")\n",
    "\n",
    "      self.rng = np.random.default_rng(randomState)\n",
    "\n",
    "      self.inputScale = None\n",
    "      self.outputScale = None\n",
    "\n",
    "      # it will be induced when calling the .fit method\n",
    "      self.inputSize = None\n",
    "\n",
    "      # their input and output sizes will be adjusted when self.inputSize is induced\n",
    "      self.firstLinLayer = nn.Linear(1, 2)\n",
    "      self.lastLinLayer = nn.Linear(2, 1)\n",
    "\n",
    "      # will be filled when self.inputSize is induced in the .fit method\n",
    "      self.linearLayers = []\n",
    "      self.linearLayerSizes = linearLayerSizes\n",
    "\n",
    "      if isinstance(nDropOutLayers, int):\n",
    "        self.nDropOutLayers = nDropOutLayers\n",
    "      elif isinstance(nDropOutLayers, float):\n",
    "        self.nDropOutLayers = math.ceil(nDropOutLayers * len(self.linearLayerSizes))\n",
    "\n",
    "      if self.nDropOutLayers > len(self.linearLayerSizes) or self.nDropOutLayers < 0:\n",
    "        raise ValueError(f'Invalid number of dropout layers ({self.nDropOutLayers})')\n",
    "\n",
    "      # indexes of layers that will be followed by a dropout layer.\n",
    "      self.dropOutIndexes = set(rng.choice(list(range(len(self.linearLayerSizes))), \n",
    "                                           size=self.nDropOutLayers,\n",
    "                                           replace=False))\n",
    "\n",
    "      self.dropOut = nn.Dropout(dropOutP)\n",
    "      self.batchSize = batchSize\n",
    "      self.nEpochs = nEpochs\n",
    "      self.initLR = initLR\n",
    "\n",
    "      self.criterion = None\n",
    "      self.optimizer = None\n",
    "\n",
    "    def forward(self, x):\n",
    "      \"\"\" :param x: (torch.FloatTensor) of shape (nSamples, inputSize) \"\"\"\n",
    "\n",
    "      out = self.activation(self.firstLinLayer(x))\n",
    "      for i, linearLayer in enumerate(self.linearLayers):\n",
    "        out = self.activation(linearLayer(out))\n",
    "        if i in self.dropOutIndexes:\n",
    "          out = self.dropOut(out)\n",
    "\n",
    "      # return raw scores\n",
    "      return self.lastLinLayer(out)\n",
    "\n",
    "    def fit(self, X, y):\n",
    "      \"\"\" \n",
    "      :param X: (np.ndarray) of shape (nSamples, inputSize)\n",
    "      :param y: (np.ndarray) of shape (nSamples,) \"\"\"\n",
    "\n",
    "      # input size is induced when calling this method for similarity to the sklearn\n",
    "      #  API. The first and last linear layer sizes are adjusted accordingly.\n",
    "\n",
    "      self.inputSize = X.shape[1]\n",
    "\n",
    "      # instantiate intermediate layers\n",
    "      for i, shape in enumerate(self.linearLayerSizes):\n",
    "\n",
    "        if i == 0:\n",
    "          self.inputScale = shape[0]\n",
    "        elif i == len(self.linearLayerSizes) - 1:\n",
    "          self.outputScale = shape[1]\n",
    "\n",
    "        inputSize = round(shape[0] * self.inputSize)\n",
    "        outputSize = round(shape[1] * self.inputSize)\n",
    "\n",
    "        self.linearLayers.append(nn.Linear(inputSize, outputSize))\n",
    "\n",
    "      self.firstLinLayer = nn.Linear(self.inputSize, round(self.inputScale*self.inputSize))\n",
    "      self.lastLinLayer = nn.Linear(round(self.outputScale*self.inputSize), 2)\n",
    "\n",
    "      # criterion and optimizer are hardcoded (except LR)\n",
    "      self.criterion = nn.CrossEntropyLoss()\n",
    "      self.optimizer = optim.Adam(self.parameters(), lr=self.initLR)\n",
    "\n",
    "      X = torch.FloatTensor(X)\n",
    "      y = torch.LongTensor(y)\n",
    "      \n",
    "      self.train()\n",
    "      for epoch in range(self.nEpochs):\n",
    "          for batch in range(int(len(X) / self.batchSize)):\n",
    "              XBatch = X[batch:batch + self.batchSize]\n",
    "              yBatch = y[batch:batch + self.batchSize]\n",
    "              self.zero_grad()\n",
    "              out = self.forward(XBatch)\n",
    "              loss = self.criterion(out, yBatch)\n",
    "              loss.backward()\n",
    "              self.optimizer.step()\n",
    "\n",
    "      self.eval()\n",
    "\n",
    "    def predict(self, x):\n",
    "      \"\"\" Predicts class 1 or 0 for an observation or batch of observations.\n",
    "      :param x: (np.ndarray) single observation of shape (inputSize,) or \n",
    "      (nSamples, inputSize) \n",
    "      :return: (np.ndarray) of shape (nSamples, 2) predicted labels \"\"\"\n",
    "\n",
    "      if len(x.shape) == 1:\n",
    "        x = x.reshape(1, -1)\n",
    "      \n",
    "      # not computing probs. with the class method to reduce calling overhead\n",
    "      probs = F.softmax(self.forward(torch.FloatTensor(x)), dim=1)\n",
    "\n",
    "      return torch.argmax(probs, dim=1).detach().numpy()\n",
    "\n",
    "    def predict_proba(self, x):\n",
    "      \"\"\" Predicts probabilities for class 1 or 0 for an observation or batch of observations.\n",
    "      :param x: (np.ndarray) single observation of shape (inputSize,) or \n",
    "      (nSamples, inputSize) \n",
    "      :return: (np.ndarray) of shape (nSamples, 2) predicted probabilities \"\"\"\n",
    "\n",
    "      if len(x.shape) == 1:\n",
    "        x = x.reshape(1, -1)\n",
    "      \n",
    "      out = self.forward(torch.FloatTensor(x))\n",
    "\n",
    "      return F.softmax(out, dim=1).detach().numpy()"
   ]
  },
  {
   "cell_type": "markdown",
   "metadata": {
    "id": "I-sjPdQLuEH3"
   },
   "source": [
    "We can use the custom architecture like a sklearn classifier (.fit, .predict, .predict_proba)"
   ]
  },
  {
   "cell_type": "code",
   "execution_count": null,
   "metadata": {
    "colab": {
     "base_uri": "https://localhost:8080/"
    },
    "id": "7fx22kd6TIJb",
    "outputId": "3e5bbcd3-5ee3-427d-b3ad-93e68c85c2eb"
   },
   "outputs": [
    {
     "data": {
      "text/plain": [
       "array([0, 0, 0, 0, 1, 1, 0, 1, 1, 1])"
      ]
     },
     "execution_count": 13,
     "metadata": {
      "tags": []
     },
     "output_type": "execute_result"
    }
   ],
   "source": [
    "linearLayerSizes = [(1.5, 2), (2, 1.5)]\n",
    "activation = 'relu'\n",
    "nDropOutLayers = 0.3\n",
    "dropOutP = 0.1\n",
    "batchSize = 15\n",
    "nEpochs = 30\n",
    "initLR = 1e-3\n",
    "randomState = 888\n",
    "rng = np.random.default_rng(randomState)\n",
    "\n",
    "net = MLP(linearLayerSizes=linearLayerSizes,\n",
    "           nDropOutLayers=nDropOutLayers,\n",
    "           dropOutP=dropOutP,\n",
    "           batchSize=batchSize,\n",
    "           nEpochs=nEpochs,\n",
    "           initLR=initLR,\n",
    "           activation=activation,\n",
    "           randomState=randomState)\n",
    "\n",
    "X = fullData.drop('final_diagnosis_code', axis=1).to_numpy()\n",
    "y = fullData.loc[:, 'final_diagnosis_code']\n",
    "\n",
    "net.fit(X, y)\n",
    "net.predict(X[:10])"
   ]
  },
  {
   "cell_type": "markdown",
   "metadata": {
    "id": "j8GB0NHgic1F"
   },
   "source": [
    "### 3.2 Configuration definitions"
   ]
  },
  {
   "cell_type": "code",
   "execution_count": null,
   "metadata": {
    "colab": {
     "base_uri": "https://localhost:8080/"
    },
    "id": "o-lXmSWH0loW",
    "outputId": "15a1b9bf-7482-4108-b7bd-78e861d5457b"
   },
   "outputs": [
    {
     "name": "stderr",
     "output_type": "stream",
     "text": [
      "Creating an ndarray from ragged nested sequences (which is a list-or-tuple of lists-or-tuples-or ndarrays with different lengths or shapes) is deprecated. If you meant to do this, you must specify 'dtype=object' when creating the ndarray\n",
      "Creating an ndarray from ragged nested sequences (which is a list-or-tuple of lists-or-tuples-or ndarrays with different lengths or shapes) is deprecated. If you meant to do this, you must specify 'dtype=object' when creating the ndarray\n"
     ]
    }
   ],
   "source": [
    "from sklearn.linear_model import LogisticRegression\n",
    "from sklearn.svm import SVC\n",
    "from sklearn.ensemble import RandomForestClassifier\n",
    "from xgboost.sklearn import XGBClassifier\n",
    "from sklearn.decomposition import PCA\n",
    "\n",
    "# --------------------------\n",
    "# common parameters\n",
    "\n",
    "randomState=888\n",
    "inputNNeigh = 10\n",
    "missingVal = -1\n",
    "nCVs = 5\n",
    "CVFolds = 2\n",
    "USnegProp = 0.5\n",
    "imputeMaxIter = 5\n",
    "\n",
    "# --------------------------\n",
    "# model architectures to try\n",
    "                \n",
    "modelClasses = [XGBClassifier, SVC, RandomForestClassifier, LogisticRegression, MLP]\n",
    "\n",
    "# --------------------------\n",
    "# defining hyperparam. grids\n",
    "\n",
    "# XGBoost: 2187 total combinations\n",
    "XGBGrid = {'learning_rate': [0.1, 0.01, 0.001],\n",
    "           'n_estimators': [100, 300, 500],\n",
    "           'max_depth': [4, 6, 8],\n",
    "           'subsample': [0.25, 0.5, 0.8],\n",
    "           'gamma': [0, 0.1, 1],       # default is 0\n",
    "           'reg_alpha': [0, 0.1, 1],   # default is 0\n",
    "           'reg_lambda': [0, 0.1, 1],  # default is 1\n",
    "           'random_state': [randomState]}\n",
    "\n",
    "# kSVM: 120 total combinations\n",
    "kSVMGrid = {'C': [0.001, 0.005, 0.01, 0.05, 0.1, 1, 5, 10],\n",
    "            'kernel': ['poly', 'rbf', 'sigmoid'],\n",
    "            'degree': [2, 3, 4, 5, 6],\n",
    "            'probability': [True],\n",
    "            'random_state': [randomState]}\n",
    "\n",
    "# RF: 756 total combinations\n",
    "RFGrid = {'n_estimators': [25, 50, 100, 200, 300, 400, 500, 750, 1000],\n",
    "          'max_depth': [3, 4, 5, 6, 7, 8, 9],\n",
    "          'min_samples_split': [2, 4, 8, 16], # default is 2\n",
    "          'max_features': ['auto', 'sqrt', 'log2'],\n",
    "          'random_state': [randomState]}\n",
    "\n",
    "# LR: 11 combinations\n",
    "LRGrid = {'C': [0.0001, 0.0005, 0.001, 0.005, 0.01, 0.05, 0.1, 0.5, 1, 5, 10],\n",
    "          'random_state': [randomState]}\n",
    "\n",
    "# MLP: 576 combinations\n",
    "MLPGrid = {'linearLayerSizes': [((1.5, 2), (2, 1.5)),\n",
    "                                ((1.5, 2), (2, 3), (3, 2),   (2, 1),   (1, 0.5)),\n",
    "                                ((1.5, 2), (2, 3), (3, 3.5), (3.5, 3), (3, 2), (2, 1), (1, 0.5)),\n",
    "                                ((1.5, 2), (2, 3), (3, 4),   (4, 3),   (3, 2), (2, 1), (1, 0.5))],\n",
    "            'activation': ['relu', 'rrelu', 'tanh', 'sigmoid'],\n",
    "            'nDropOutLayers': [0.1, 0.2, 0.3],\n",
    "            'dropOutP': [0.1, 0.15, 0.2],\n",
    "            'nEpochs': [25, 50, 75, 100],\n",
    "            'batchSize': [50],\n",
    "            'initLR': [1e-3],\n",
    "            'randomState': [888]}\n",
    "\n",
    "# --------------------------\n",
    "# getting n random hyperparam. configurations\n",
    "# if None, use all combinations\n",
    "\n",
    "nXGB = 120\n",
    "nSVM = 120\n",
    "nRF = 120\n",
    "nLR = None\n",
    "nMLP = 120\n",
    "\n",
    "import itertools\n",
    "\n",
    "def gen_configs(n, grid, rng):\n",
    "  if n is None:\n",
    "    # all combinations: cartesian product\n",
    "    prod = list(itertools.product(*[paramValues for paramValues in grid.values()]))\n",
    "    configs = [{list(grid.keys())[i]: paramValues[i] for i in range(len(prod[0]))} for paramValues in prod]\n",
    "  else:\n",
    "    # generate n random combinations checking that they do not repeat\n",
    "    maxCombinations = 0\n",
    "    for i, paramKey in enumerate(grid.keys()):\n",
    "      if i == 0:\n",
    "        maxCombinations = len(grid[paramKey])\n",
    "      else:\n",
    "        maxCombinations *= len(grid[paramKey])\n",
    "    if n > maxCombinations:\n",
    "      raise ValueError(f'Number of combinations to compute cannot exceed max. number of combinations ({maxCombinations})')\n",
    "    configs = []\n",
    "    configSet = set()\n",
    "    for i in range(n):\n",
    "      config = {}\n",
    "      for paramKey in grid.keys():\n",
    "        config[paramKey] = rng.choice(grid[paramKey], size=1).item()\n",
    "      if i > 0:\n",
    "        while tuple(config.values()) in configSet:\n",
    "          config = {}\n",
    "          for paramKey in grid.keys():\n",
    "            config[paramKey] = rng.choice(grid[paramKey], size=1).item()\n",
    "      configSet.add(tuple(config.values()))\n",
    "      configs.append(config)\n",
    "  return configs\n",
    "\n",
    "rng = np.random.default_rng(randomState)\n",
    "\n",
    "XGBConfigs = gen_configs(nXGB, XGBGrid, rng)\n",
    "kSVMConfigs = gen_configs(nSVM, kSVMGrid, rng)\n",
    "RFConfigs = gen_configs(nRF, RFGrid, rng)\n",
    "LRConfigs = gen_configs(nLR, LRGrid, rng)\n",
    "MLPConfigs = gen_configs(nMLP, MLPGrid, rng)\n",
    "\n",
    "modelConfigs = [XGBConfigs, kSVMConfigs, RFConfigs, LRConfigs, MLPConfigs]"
   ]
  },
  {
   "cell_type": "markdown",
   "metadata": {
    "id": "leEXRTF65JvX"
   },
   "source": [
    "### 3.3 Whole dataset"
   ]
  },
  {
   "cell_type": "code",
   "execution_count": null,
   "metadata": {
    "colab": {
     "background_save": true
    },
    "id": "BdrxlV3y4kaZ"
   },
   "outputs": [],
   "source": [
    "# read pre-processed BUT not imputed full data (not stratified by age)\n",
    "fullDataPath = ''\n",
    "fullData = pd.read_csv(fullDataPath, index_col=0, dtype=int)\n",
    "\n",
    "randomState = 888\n",
    "rng = np.random.default_rng(randomState)\n",
    "\n",
    "# Define 70 / 30 train test splits\n",
    "dataSplits = [0.7, 0.3]\n",
    "trainIndexes = rng.choice([True, False], size=len(fullData), p=dataSplits)\n",
    "fullDataTrain, fullDataTest = fullData[trainIndexes], fullData[~trainIndexes]\n",
    "\n",
    "resValWhole, resTestWhole, bestArchWhole, \\\n",
    "trModelsWhole, trDataWhole, testDataWhole, fNamesWhole = eval_model_pipeline(modelClasses=modelClasses,\n",
    "                                                                             modelConfigs=modelConfigs,\n",
    "                                                                             trainingData=fullDataTrain,\n",
    "                                                                             testData=fullDataTest,\n",
    "                                                                             inputNNeigh=inputNNeigh,\n",
    "                                                                             missingVal=missingVal,\n",
    "                                                                             nCVs=nCVs,\n",
    "                                                                             CVFolds=CVFolds,\n",
    "                                                                             USnegProp=USnegProp,\n",
    "                                                                             imputeMaxIter=imputeMaxIter,\n",
    "                                                                             randomState=randomState)\n",
    "resFullPath = ''\n",
    "with open(resFullPath, 'wb') as handle:\n",
    "  pickle.dump([resValWhole, resTestWhole, bestArchWhole, \n",
    "               trModelsWhole, trDataWhole, testDataWhole, fNamesWhole], handle)"
   ]
  },
  {
   "cell_type": "code",
   "execution_count": null,
   "metadata": {
    "id": "gychHgArOGvI"
   },
   "outputs": [],
   "source": [
    "with open(resFullPath, 'rb') as handle:\n",
    "  resValWhole, resTestWhole, bestArchWhole, trModelsWhole, \\\n",
    "    trDataWhole, testDataWhole, fNamesWhole = pickle.load(handle)"
   ]
  },
  {
   "cell_type": "code",
   "execution_count": null,
   "metadata": {
    "colab": {
     "base_uri": "https://localhost:8080/",
     "height": 204
    },
    "id": "l7Iy5nSf9-xm",
    "outputId": "9bbc7126-4d34-4a57-f40d-62c71e18f308"
   },
   "outputs": [
    {
     "data": {
      "text/html": [
       "<div>\n",
       "<style scoped>\n",
       "    .dataframe tbody tr th:only-of-type {\n",
       "        vertical-align: middle;\n",
       "    }\n",
       "\n",
       "    .dataframe tbody tr th {\n",
       "        vertical-align: top;\n",
       "    }\n",
       "\n",
       "    .dataframe thead th {\n",
       "        text-align: right;\n",
       "    }\n",
       "</style>\n",
       "<table border=\"1\" class=\"dataframe\">\n",
       "  <thead>\n",
       "    <tr style=\"text-align: right;\">\n",
       "      <th></th>\n",
       "      <th>Arch</th>\n",
       "      <th>AUC</th>\n",
       "      <th>prec</th>\n",
       "      <th>sensitivity</th>\n",
       "      <th>specificity</th>\n",
       "      <th>F1</th>\n",
       "    </tr>\n",
       "  </thead>\n",
       "  <tbody>\n",
       "    <tr>\n",
       "      <th>0</th>\n",
       "      <td>&lt;class 'xgboost.sklearn.XGBClassifier'&gt;</td>\n",
       "      <td>0.645402</td>\n",
       "      <td>0.273187</td>\n",
       "      <td>0.631071</td>\n",
       "      <td>0.659733</td>\n",
       "      <td>0.380473</td>\n",
       "    </tr>\n",
       "    <tr>\n",
       "      <th>1</th>\n",
       "      <td>&lt;class 'sklearn.svm._classes.SVC'&gt;</td>\n",
       "      <td>0.626633</td>\n",
       "      <td>0.288871</td>\n",
       "      <td>0.506624</td>\n",
       "      <td>0.746643</td>\n",
       "      <td>0.366693</td>\n",
       "    </tr>\n",
       "    <tr>\n",
       "      <th>2</th>\n",
       "      <td>&lt;class 'sklearn.ensemble._forest.RandomForestC...</td>\n",
       "      <td>0.643830</td>\n",
       "      <td>0.278059</td>\n",
       "      <td>0.607187</td>\n",
       "      <td>0.680473</td>\n",
       "      <td>0.380581</td>\n",
       "    </tr>\n",
       "    <tr>\n",
       "      <th>3</th>\n",
       "      <td>&lt;class 'sklearn.linear_model._logistic.Logisti...</td>\n",
       "      <td>0.632929</td>\n",
       "      <td>0.267197</td>\n",
       "      <td>0.597250</td>\n",
       "      <td>0.668608</td>\n",
       "      <td>0.368775</td>\n",
       "    </tr>\n",
       "    <tr>\n",
       "      <th>4</th>\n",
       "      <td>&lt;class '__main__.MLP'&gt;</td>\n",
       "      <td>0.566554</td>\n",
       "      <td>NaN</td>\n",
       "      <td>0.495642</td>\n",
       "      <td>0.637466</td>\n",
       "      <td>0.263981</td>\n",
       "    </tr>\n",
       "  </tbody>\n",
       "</table>\n",
       "</div>"
      ],
      "text/plain": [
       "                                                Arch  ...        F1\n",
       "0            <class 'xgboost.sklearn.XGBClassifier'>  ...  0.380473\n",
       "1                 <class 'sklearn.svm._classes.SVC'>  ...  0.366693\n",
       "2  <class 'sklearn.ensemble._forest.RandomForestC...  ...  0.380581\n",
       "3  <class 'sklearn.linear_model._logistic.Logisti...  ...  0.368775\n",
       "4                             <class '__main__.MLP'>  ...  0.263981\n",
       "\n",
       "[5 rows x 6 columns]"
      ]
     },
     "execution_count": 18,
     "metadata": {},
     "output_type": "execute_result"
    }
   ],
   "source": [
    "resValWhole"
   ]
  },
  {
   "cell_type": "code",
   "execution_count": null,
   "metadata": {
    "colab": {
     "base_uri": "https://localhost:8080/",
     "height": 309
    },
    "id": "PhTH1qnz-GYs",
    "outputId": "4bd1cf80-8639-4d50-91ce-b793578ccb15"
   },
   "outputs": [
    {
     "data": {
      "text/html": [
       "<div>\n",
       "<style scoped>\n",
       "    .dataframe tbody tr th:only-of-type {\n",
       "        vertical-align: middle;\n",
       "    }\n",
       "\n",
       "    .dataframe tbody tr th {\n",
       "        vertical-align: top;\n",
       "    }\n",
       "\n",
       "    .dataframe thead th {\n",
       "        text-align: right;\n",
       "    }\n",
       "</style>\n",
       "<table border=\"1\" class=\"dataframe\">\n",
       "  <thead>\n",
       "    <tr style=\"text-align: right;\">\n",
       "      <th></th>\n",
       "      <th>Arch</th>\n",
       "      <th>AUC</th>\n",
       "      <th>AUC CIs</th>\n",
       "      <th>sensitivity</th>\n",
       "      <th>sensitivity CIs</th>\n",
       "      <th>specificity</th>\n",
       "      <th>specificity CIs</th>\n",
       "      <th>prec</th>\n",
       "      <th>prec CIs</th>\n",
       "      <th>F1</th>\n",
       "      <th>F1 CIs</th>\n",
       "    </tr>\n",
       "  </thead>\n",
       "  <tbody>\n",
       "    <tr>\n",
       "      <th>0</th>\n",
       "      <td>&lt;class 'xgboost.sklearn.XGBClassifier'&gt;</td>\n",
       "      <td>0.649566</td>\n",
       "      <td>(0.623618113276105, 0.667397352046146)</td>\n",
       "      <td>0.300097</td>\n",
       "      <td>(0.27032008527924634, 0.3327973690167768)</td>\n",
       "      <td>0.646341</td>\n",
       "      <td>(0.5522357723577236, 0.7278455284552845)</td>\n",
       "      <td>0.655028</td>\n",
       "      <td>(0.5610335195530727, 0.7300744878957168)</td>\n",
       "      <td>0.409575</td>\n",
       "      <td>(0.3819891263471533, 0.4325075154730327)</td>\n",
       "    </tr>\n",
       "    <tr>\n",
       "      <th>1</th>\n",
       "      <td>&lt;class 'sklearn.svm._classes.SVC'&gt;</td>\n",
       "      <td>0.639988</td>\n",
       "      <td>(0.606701355770541, 0.6621709928691466)</td>\n",
       "      <td>0.300968</td>\n",
       "      <td>(0.25975975975975973, 0.36419786096256684)</td>\n",
       "      <td>0.613821</td>\n",
       "      <td>(0.41016260162601625, 0.7652439024390241)</td>\n",
       "      <td>0.680633</td>\n",
       "      <td>(0.510451582867784, 0.825)</td>\n",
       "      <td>0.400000</td>\n",
       "      <td>(0.3629536548837782, 0.4248436332742533)</td>\n",
       "    </tr>\n",
       "    <tr>\n",
       "      <th>2</th>\n",
       "      <td>&lt;class 'sklearn.ensemble._forest.RandomForestC...</td>\n",
       "      <td>0.627844</td>\n",
       "      <td>(0.5993808761411636, 0.6593260321569696)</td>\n",
       "      <td>0.298899</td>\n",
       "      <td>(0.25080308987348154, 0.3551458885941644)</td>\n",
       "      <td>0.554878</td>\n",
       "      <td>(0.38384146341463415, 0.8012195121951218)</td>\n",
       "      <td>0.697393</td>\n",
       "      <td>(0.45805400372439475, 0.8382681564245809)</td>\n",
       "      <td>0.387038</td>\n",
       "      <td>(0.3521744397334949, 0.41778047959960574)</td>\n",
       "    </tr>\n",
       "    <tr>\n",
       "      <th>3</th>\n",
       "      <td>&lt;class 'sklearn.linear_model._logistic.Logisti...</td>\n",
       "      <td>0.611607</td>\n",
       "      <td>(0.5936864127719489, 0.6342227029113867)</td>\n",
       "      <td>0.283924</td>\n",
       "      <td>(0.24157298454899073, 0.3480891136147685)</td>\n",
       "      <td>0.546748</td>\n",
       "      <td>(0.38170731707317074, 0.7704268292682926)</td>\n",
       "      <td>0.682495</td>\n",
       "      <td>(0.45463221601489756, 0.8353817504655493)</td>\n",
       "      <td>0.369772</td>\n",
       "      <td>(0.34761175750153095, 0.39384781929618584)</td>\n",
       "    </tr>\n",
       "    <tr>\n",
       "      <th>4</th>\n",
       "      <td>&lt;class '__main__.MLP'&gt;</td>\n",
       "      <td>0.585320</td>\n",
       "      <td>(0.5372666575827769, 0.6330892037970659)</td>\n",
       "      <td>0.245177</td>\n",
       "      <td>(0.20681408450704225, 0.2966421484625592)</td>\n",
       "      <td>0.595528</td>\n",
       "      <td>(0.38943089430894307, 0.7744918699186991)</td>\n",
       "      <td>0.572626</td>\n",
       "      <td>(0.364804469273743, 0.7701350093109868)</td>\n",
       "      <td>0.346151</td>\n",
       "      <td>(0.3035124543589537, 0.39118352223190933)</td>\n",
       "    </tr>\n",
       "  </tbody>\n",
       "</table>\n",
       "</div>"
      ],
      "text/plain": [
       "                                                Arch  ...                                      F1 CIs\n",
       "0            <class 'xgboost.sklearn.XGBClassifier'>  ...    (0.3819891263471533, 0.4325075154730327)\n",
       "1                 <class 'sklearn.svm._classes.SVC'>  ...    (0.3629536548837782, 0.4248436332742533)\n",
       "2  <class 'sklearn.ensemble._forest.RandomForestC...  ...   (0.3521744397334949, 0.41778047959960574)\n",
       "3  <class 'sklearn.linear_model._logistic.Logisti...  ...  (0.34761175750153095, 0.39384781929618584)\n",
       "4                             <class '__main__.MLP'>  ...   (0.3035124543589537, 0.39118352223190933)\n",
       "\n",
       "[5 rows x 11 columns]"
      ]
     },
     "execution_count": 19,
     "metadata": {},
     "output_type": "execute_result"
    }
   ],
   "source": [
    "resTestWhole"
   ]
  },
  {
   "cell_type": "code",
   "execution_count": null,
   "metadata": {
    "colab": {
     "base_uri": "https://localhost:8080/"
    },
    "id": "CkhhqOEU-IRF",
    "outputId": "2efef3ff-14f4-4b0c-9a1f-41f21c7ce4e1"
   },
   "outputs": [
    {
     "data": {
      "text/plain": [
       "{\"<class '__main__.MLP'>\": {'activation': 'relu',\n",
       "  'batchSize': 50,\n",
       "  'dropOutP': 0.1,\n",
       "  'initLR': 0.001,\n",
       "  'linearLayerSizes': ((1.5, 2), (2, 3), (3, 2), (2, 1), (1, 0.5)),\n",
       "  'nDropOutLayers': 0.3,\n",
       "  'nEpochs': 100,\n",
       "  'randomState': 888},\n",
       " \"<class 'sklearn.ensemble._forest.RandomForestClassifier'>\": {'max_depth': 5,\n",
       "  'max_features': 'log2',\n",
       "  'min_samples_split': 8,\n",
       "  'n_estimators': 50,\n",
       "  'random_state': 888},\n",
       " \"<class 'sklearn.linear_model._logistic.LogisticRegression'>\": {'C': 0.01,\n",
       "  'random_state': 888},\n",
       " \"<class 'sklearn.svm._classes.SVC'>\": {'C': 0.1,\n",
       "  'degree': 6,\n",
       "  'kernel': 'rbf',\n",
       "  'probability': True,\n",
       "  'random_state': 888},\n",
       " \"<class 'xgboost.sklearn.XGBClassifier'>\": {'gamma': 1.0,\n",
       "  'learning_rate': 0.01,\n",
       "  'max_depth': 6,\n",
       "  'n_estimators': 300,\n",
       "  'random_state': 888,\n",
       "  'reg_alpha': 1.0,\n",
       "  'reg_lambda': 1.0,\n",
       "  'subsample': 0.5}}"
      ]
     },
     "execution_count": 20,
     "metadata": {},
     "output_type": "execute_result"
    }
   ],
   "source": [
    "bestArchWhole"
   ]
  },
  {
   "cell_type": "markdown",
   "metadata": {
    "id": "-fas9vJcORSl"
   },
   "source": [
    "### 3.4 Ages 0 to 5 "
   ]
  },
  {
   "cell_type": "code",
   "execution_count": null,
   "metadata": {
    "id": "b52N-eM_OY_T"
   },
   "outputs": [],
   "source": [
    "randomState = 888\n",
    "rng = np.random.default_rng(randomState)\n",
    "\n",
    "# read pre-processed BUT not imputed ages 0 to 5 data\n",
    "path0To5 = ''\n",
    "ages0To5 = pd.read_csv(path0To5, index_col = 0, dtype=int)\n",
    "# ages0To5 = remove_variance(ages0To5, pctThreshold=0.005)\n",
    "\n",
    "# Define 70 / 30 train test splits\n",
    "dataSplits = [0.7, 0.3]\n",
    "trainIndexes = rng.choice([True, False], size=len(ages0To5), p=dataSplits)\n",
    "ages0To5Train, ages0To5Test = ages0To5[trainIndexes], ages0To5[~trainIndexes]\n",
    "\n",
    "resVal0To5, resTest0To5, bestArch0To5, \\\n",
    "trModels0To5, trData0To5, testData0To5, fNames0To5 = eval_model_pipeline(modelClasses=modelClasses,\n",
    "                                                                         modelConfigs=modelConfigs,\n",
    "                                                                         trainingData=ages0To5Train,\n",
    "                                                                         testData=ages0To5Test,\n",
    "                                                                         inputNNeigh=inputNNeigh,\n",
    "                                                                         missingVal=missingVal,\n",
    "                                                                         nCVs=nCVs,\n",
    "                                                                         CVFolds=CVFolds,\n",
    "                                                                         USnegProp=USnegProp,\n",
    "                                                                         randomState=randomState)\n",
    "res0To5Path = ''\n",
    "with open(res0To5Path, 'wb') as handle:\n",
    "  pickle.dump([resVal0To5, resTest0To5, bestArch0To5, trModels0To5, \n",
    "               trData0To5, testData0To5, fNames0To5], handle)"
   ]
  },
  {
   "cell_type": "code",
   "execution_count": null,
   "metadata": {
    "id": "22ZW-0NsOL4C"
   },
   "outputs": [],
   "source": [
    "with open(res0To5Path, 'rb') as handle:\n",
    "  resVal0To5, resTest0To5, bestArch0To5, trModels0To5, \\\n",
    "    trData0To5, testData0To5, fNames0To5 = pickle.load(handle)"
   ]
  },
  {
   "cell_type": "code",
   "execution_count": null,
   "metadata": {
    "colab": {
     "base_uri": "https://localhost:8080/",
     "height": 204
    },
    "id": "6VGUoIBIraRO",
    "outputId": "6741eb77-9819-4c36-afca-0a52432d4acb"
   },
   "outputs": [
    {
     "data": {
      "text/html": [
       "<div>\n",
       "<style scoped>\n",
       "    .dataframe tbody tr th:only-of-type {\n",
       "        vertical-align: middle;\n",
       "    }\n",
       "\n",
       "    .dataframe tbody tr th {\n",
       "        vertical-align: top;\n",
       "    }\n",
       "\n",
       "    .dataframe thead th {\n",
       "        text-align: right;\n",
       "    }\n",
       "</style>\n",
       "<table border=\"1\" class=\"dataframe\">\n",
       "  <thead>\n",
       "    <tr style=\"text-align: right;\">\n",
       "      <th></th>\n",
       "      <th>Arch</th>\n",
       "      <th>AUC</th>\n",
       "      <th>prec</th>\n",
       "      <th>sensitivity</th>\n",
       "      <th>specificity</th>\n",
       "      <th>F1</th>\n",
       "    </tr>\n",
       "  </thead>\n",
       "  <tbody>\n",
       "    <tr>\n",
       "      <th>0</th>\n",
       "      <td>&lt;class 'xgboost.sklearn.XGBClassifier'&gt;</td>\n",
       "      <td>0.577273</td>\n",
       "      <td>0.141099</td>\n",
       "      <td>0.558219</td>\n",
       "      <td>0.596326</td>\n",
       "      <td>0.224771</td>\n",
       "    </tr>\n",
       "    <tr>\n",
       "      <th>1</th>\n",
       "      <td>&lt;class 'sklearn.svm._classes.SVC'&gt;</td>\n",
       "      <td>0.584451</td>\n",
       "      <td>0.145201</td>\n",
       "      <td>0.576039</td>\n",
       "      <td>0.592864</td>\n",
       "      <td>0.231483</td>\n",
       "    </tr>\n",
       "    <tr>\n",
       "      <th>2</th>\n",
       "      <td>&lt;class 'sklearn.ensemble._forest.RandomForestC...</td>\n",
       "      <td>0.579516</td>\n",
       "      <td>0.139755</td>\n",
       "      <td>0.602655</td>\n",
       "      <td>0.556376</td>\n",
       "      <td>0.225592</td>\n",
       "    </tr>\n",
       "    <tr>\n",
       "      <th>3</th>\n",
       "      <td>&lt;class 'sklearn.linear_model._logistic.Logisti...</td>\n",
       "      <td>0.564381</td>\n",
       "      <td>0.134451</td>\n",
       "      <td>0.562012</td>\n",
       "      <td>0.566750</td>\n",
       "      <td>0.216429</td>\n",
       "    </tr>\n",
       "    <tr>\n",
       "      <th>4</th>\n",
       "      <td>&lt;class '__main__.MLP'&gt;</td>\n",
       "      <td>0.542023</td>\n",
       "      <td>0.128251</td>\n",
       "      <td>0.465004</td>\n",
       "      <td>0.619042</td>\n",
       "      <td>0.197586</td>\n",
       "    </tr>\n",
       "  </tbody>\n",
       "</table>\n",
       "</div>"
      ],
      "text/plain": [
       "                                                Arch  ...        F1\n",
       "0            <class 'xgboost.sklearn.XGBClassifier'>  ...  0.224771\n",
       "1                 <class 'sklearn.svm._classes.SVC'>  ...  0.231483\n",
       "2  <class 'sklearn.ensemble._forest.RandomForestC...  ...  0.225592\n",
       "3  <class 'sklearn.linear_model._logistic.Logisti...  ...  0.216429\n",
       "4                             <class '__main__.MLP'>  ...  0.197586\n",
       "\n",
       "[5 rows x 6 columns]"
      ]
     },
     "execution_count": 28,
     "metadata": {
      "tags": []
     },
     "output_type": "execute_result"
    }
   ],
   "source": [
    "resVal0To5"
   ]
  },
  {
   "cell_type": "code",
   "execution_count": null,
   "metadata": {
    "colab": {
     "base_uri": "https://localhost:8080/",
     "height": 289
    },
    "id": "FF15TIOOrbCP",
    "outputId": "ff4c6864-c409-4e5a-fc67-bcba59795c8c"
   },
   "outputs": [
    {
     "data": {
      "text/html": [
       "<div>\n",
       "<style scoped>\n",
       "    .dataframe tbody tr th:only-of-type {\n",
       "        vertical-align: middle;\n",
       "    }\n",
       "\n",
       "    .dataframe tbody tr th {\n",
       "        vertical-align: top;\n",
       "    }\n",
       "\n",
       "    .dataframe thead th {\n",
       "        text-align: right;\n",
       "    }\n",
       "</style>\n",
       "<table border=\"1\" class=\"dataframe\">\n",
       "  <thead>\n",
       "    <tr style=\"text-align: right;\">\n",
       "      <th></th>\n",
       "      <th>Arch</th>\n",
       "      <th>AUC</th>\n",
       "      <th>AUC CIs</th>\n",
       "      <th>sensitivity</th>\n",
       "      <th>sensitivity CIs</th>\n",
       "      <th>specificity</th>\n",
       "      <th>specificity CIs</th>\n",
       "      <th>prec</th>\n",
       "      <th>prec CIs</th>\n",
       "      <th>F1</th>\n",
       "      <th>F1 CIs</th>\n",
       "    </tr>\n",
       "  </thead>\n",
       "  <tbody>\n",
       "    <tr>\n",
       "      <th>0</th>\n",
       "      <td>&lt;class 'xgboost.sklearn.XGBClassifier'&gt;</td>\n",
       "      <td>0.616052</td>\n",
       "      <td>(0.5627821790612488, 0.6692779765454182)</td>\n",
       "      <td>0.155317</td>\n",
       "      <td>(0.13153135821469797, 0.18670709687549064)</td>\n",
       "      <td>0.603175</td>\n",
       "      <td>(0.45198412698412693, 0.7777777777777778)</td>\n",
       "      <td>0.632379</td>\n",
       "      <td>(0.5133273703041145, 0.735509838998211)</td>\n",
       "      <td>0.247000</td>\n",
       "      <td>(0.2076124567474049, 0.28521196391051784)</td>\n",
       "    </tr>\n",
       "    <tr>\n",
       "      <th>1</th>\n",
       "      <td>&lt;class 'sklearn.svm._classes.SVC'&gt;</td>\n",
       "      <td>0.597765</td>\n",
       "      <td>(0.5512394582162023, 0.6539206917113893)</td>\n",
       "      <td>0.144712</td>\n",
       "      <td>(0.12322660645543382, 0.18136956521739128)</td>\n",
       "      <td>0.571429</td>\n",
       "      <td>(0.4202380952380952, 0.7384920634920633)</td>\n",
       "      <td>0.631485</td>\n",
       "      <td>(0.4836762075134168, 0.7334525939177102)</td>\n",
       "      <td>0.231025</td>\n",
       "      <td>(0.19857667584940314, 0.27341906850595)</td>\n",
       "    </tr>\n",
       "    <tr>\n",
       "      <th>2</th>\n",
       "      <td>&lt;class 'sklearn.ensemble._forest.RandomForestC...</td>\n",
       "      <td>0.631300</td>\n",
       "      <td>(0.5671465485418974, 0.6751231649487464)</td>\n",
       "      <td>0.148797</td>\n",
       "      <td>(0.13038600891861762, 0.18395833333333333)</td>\n",
       "      <td>0.746032</td>\n",
       "      <td>(0.42857142857142855, 0.9365079365079365)</td>\n",
       "      <td>0.544723</td>\n",
       "      <td>(0.3228533094812165, 0.7711091234347047)</td>\n",
       "      <td>0.246889</td>\n",
       "      <td>(0.21121705426356588, 0.2913245818963919)</td>\n",
       "    </tr>\n",
       "    <tr>\n",
       "      <th>3</th>\n",
       "      <td>&lt;class 'sklearn.linear_model._logistic.Logisti...</td>\n",
       "      <td>0.616258</td>\n",
       "      <td>(0.5433675497628987, 0.6675433739387229)</td>\n",
       "      <td>0.148279</td>\n",
       "      <td>(0.11815935362113707, 0.1765572033898305)</td>\n",
       "      <td>0.666667</td>\n",
       "      <td>(0.492063492063492, 0.8738095238095235)</td>\n",
       "      <td>0.561717</td>\n",
       "      <td>(0.43000894454382826, 0.7163685152057243)</td>\n",
       "      <td>0.243108</td>\n",
       "      <td>(0.19413697517145795, 0.277171060479542)</td>\n",
       "    </tr>\n",
       "    <tr>\n",
       "      <th>4</th>\n",
       "      <td>&lt;class '__main__.MLP'&gt;</td>\n",
       "      <td>0.569640</td>\n",
       "      <td>(0.4925792231024789, 0.6445275009228497)</td>\n",
       "      <td>0.127647</td>\n",
       "      <td>(0.09907444309267105, 0.17714694656488544)</td>\n",
       "      <td>0.587302</td>\n",
       "      <td>(0.3492063492063492, 0.8579365079365077)</td>\n",
       "      <td>0.539356</td>\n",
       "      <td>(0.35084973166368516, 0.7620751341681574)</td>\n",
       "      <td>0.210398</td>\n",
       "      <td>(0.16893604370285034, 0.2672237762237762)</td>\n",
       "    </tr>\n",
       "  </tbody>\n",
       "</table>\n",
       "</div>"
      ],
      "text/plain": [
       "                                                Arch  ...                                     F1 CIs\n",
       "0            <class 'xgboost.sklearn.XGBClassifier'>  ...  (0.2076124567474049, 0.28521196391051784)\n",
       "1                 <class 'sklearn.svm._classes.SVC'>  ...    (0.19857667584940314, 0.27341906850595)\n",
       "2  <class 'sklearn.ensemble._forest.RandomForestC...  ...  (0.21121705426356588, 0.2913245818963919)\n",
       "3  <class 'sklearn.linear_model._logistic.Logisti...  ...   (0.19413697517145795, 0.277171060479542)\n",
       "4                             <class '__main__.MLP'>  ...  (0.16893604370285034, 0.2672237762237762)\n",
       "\n",
       "[5 rows x 11 columns]"
      ]
     },
     "execution_count": 29,
     "metadata": {
      "tags": []
     },
     "output_type": "execute_result"
    }
   ],
   "source": [
    "resTest0To5"
   ]
  },
  {
   "cell_type": "code",
   "execution_count": null,
   "metadata": {
    "colab": {
     "base_uri": "https://localhost:8080/"
    },
    "id": "Fn0XYm-erbzA",
    "outputId": "76355c69-4421-49df-c123-b3d0d1e48bc1"
   },
   "outputs": [
    {
     "data": {
      "text/plain": [
       "{\"<class '__main__.MLP'>\": {'activation': 'rrelu',\n",
       "  'batchSize': 50,\n",
       "  'dropOutP': 0.1,\n",
       "  'initLR': 0.001,\n",
       "  'linearLayerSizes': ((1.5, 2), (2, 1.5)),\n",
       "  'nDropOutLayers': 0.2,\n",
       "  'nEpochs': 75,\n",
       "  'randomState': 888},\n",
       " \"<class 'sklearn.ensemble._forest.RandomForestClassifier'>\": {'max_depth': 5,\n",
       "  'max_features': 'log2',\n",
       "  'min_samples_split': 8,\n",
       "  'n_estimators': 50,\n",
       "  'random_state': 888},\n",
       " \"<class 'sklearn.linear_model._logistic.LogisticRegression'>\": {'C': 0.5,\n",
       "  'random_state': 888},\n",
       " \"<class 'sklearn.svm._classes.SVC'>\": {'C': 5.0,\n",
       "  'degree': 4,\n",
       "  'kernel': 'rbf',\n",
       "  'probability': True,\n",
       "  'random_state': 888},\n",
       " \"<class 'xgboost.sklearn.XGBClassifier'>\": {'gamma': 0.1,\n",
       "  'learning_rate': 0.01,\n",
       "  'max_depth': 8,\n",
       "  'n_estimators': 300,\n",
       "  'random_state': 888,\n",
       "  'reg_alpha': 0.1,\n",
       "  'reg_lambda': 1.0,\n",
       "  'subsample': 0.5}}"
      ]
     },
     "execution_count": 30,
     "metadata": {
      "tags": []
     },
     "output_type": "execute_result"
    }
   ],
   "source": [
    "bestArch0To5"
   ]
  },
  {
   "cell_type": "markdown",
   "metadata": {
    "id": "9o1SWOytOZRT"
   },
   "source": [
    "### 3.5 Ages > 6"
   ]
  },
  {
   "cell_type": "code",
   "execution_count": null,
   "metadata": {
    "id": "sSw67xB_Rz5G"
   },
   "outputs": [],
   "source": [
    "randomState = 888\n",
    "rng = np.random.default_rng(randomState)\n",
    "\n",
    "# read pre-processed BUT not imputed ages > 6 data\n",
    "pathGT6 = ''\n",
    "agesGT6 = pd.read_csv(pathGT6, index_col = 0, dtype=int)\n",
    "\n",
    "# Define 70 / 30 train test splits\n",
    "dataSplits = [0.7, 0.3] \n",
    "trainIndexes = rng.choice([True, False], size=len(agesGT6), p=dataSplits)\n",
    "agesGT6Train, agesGT6Test = agesGT6[trainIndexes], agesGT6[~trainIndexes]\n",
    "\n",
    "resValGT6, resTestGT6, bestArchGT6, \\\n",
    "trModelsGT6, trDataGT6, testDataGT6, fNamesGT6 = eval_model_pipeline(modelClasses=modelClasses,\n",
    "                                                                             modelConfigs=modelConfigs,\n",
    "                                                                             trainingData=agesGT6Train,\n",
    "                                                                             testData=agesGT6Test,\n",
    "                                                                             inputNNeigh=inputNNeigh,\n",
    "                                                                             missingVal=missingVal,\n",
    "                                                                             nCVs=nCVs,\n",
    "                                                                             CVFolds=CVFolds,\n",
    "                                                                             USnegProp=USnegProp,\n",
    "                                                                             randomState=randomState)\n",
    "\n",
    "resGT6Path = ''\n",
    "with open(resGT6Path, 'wb') as handle:\n",
    "  pickle.dump([resValGT6, resTestGT6, bestArchGT6, trModelsGT6,\n",
    "                trDataGT6, testDataGT6, fNamesGT6],\n",
    "              handle)"
   ]
  },
  {
   "cell_type": "code",
   "execution_count": null,
   "metadata": {
    "id": "X9P2lt_3OPkZ"
   },
   "outputs": [],
   "source": [
    "with open(resGT6Path, 'rb') as handle:\n",
    "  resValGT6, resTestGT6, bestArchGT6, trModelsGT6, \\\n",
    "    trDataGT6, testDataGT6, fNamesGT6 = pickle.load(handle)"
   ]
  },
  {
   "cell_type": "code",
   "execution_count": null,
   "metadata": {
    "colab": {
     "base_uri": "https://localhost:8080/",
     "height": 204
    },
    "id": "v0zYtsl1sA2W",
    "outputId": "50bc6d79-405f-4c62-f10e-8a67206c6b91"
   },
   "outputs": [
    {
     "data": {
      "text/html": [
       "<div>\n",
       "<style scoped>\n",
       "    .dataframe tbody tr th:only-of-type {\n",
       "        vertical-align: middle;\n",
       "    }\n",
       "\n",
       "    .dataframe tbody tr th {\n",
       "        vertical-align: top;\n",
       "    }\n",
       "\n",
       "    .dataframe thead th {\n",
       "        text-align: right;\n",
       "    }\n",
       "</style>\n",
       "<table border=\"1\" class=\"dataframe\">\n",
       "  <thead>\n",
       "    <tr style=\"text-align: right;\">\n",
       "      <th></th>\n",
       "      <th>Arch</th>\n",
       "      <th>AUC</th>\n",
       "      <th>prec</th>\n",
       "      <th>sensitivity</th>\n",
       "      <th>specificity</th>\n",
       "      <th>F1</th>\n",
       "    </tr>\n",
       "  </thead>\n",
       "  <tbody>\n",
       "    <tr>\n",
       "      <th>0</th>\n",
       "      <td>&lt;class 'xgboost.sklearn.XGBClassifier'&gt;</td>\n",
       "      <td>0.649057</td>\n",
       "      <td>0.379873</td>\n",
       "      <td>0.631582</td>\n",
       "      <td>0.666533</td>\n",
       "      <td>0.473525</td>\n",
       "    </tr>\n",
       "    <tr>\n",
       "      <th>1</th>\n",
       "      <td>&lt;class 'sklearn.svm._classes.SVC'&gt;</td>\n",
       "      <td>0.651372</td>\n",
       "      <td>0.377761</td>\n",
       "      <td>0.652936</td>\n",
       "      <td>0.649808</td>\n",
       "      <td>0.477341</td>\n",
       "    </tr>\n",
       "    <tr>\n",
       "      <th>2</th>\n",
       "      <td>&lt;class 'sklearn.ensemble._forest.RandomForestC...</td>\n",
       "      <td>0.652008</td>\n",
       "      <td>0.376682</td>\n",
       "      <td>0.662866</td>\n",
       "      <td>0.641150</td>\n",
       "      <td>0.478977</td>\n",
       "    </tr>\n",
       "    <tr>\n",
       "      <th>3</th>\n",
       "      <td>&lt;class 'sklearn.linear_model._logistic.Logisti...</td>\n",
       "      <td>0.635142</td>\n",
       "      <td>0.364761</td>\n",
       "      <td>0.625547</td>\n",
       "      <td>0.644738</td>\n",
       "      <td>0.459963</td>\n",
       "    </tr>\n",
       "    <tr>\n",
       "      <th>4</th>\n",
       "      <td>&lt;class '__main__.MLP'&gt;</td>\n",
       "      <td>0.596457</td>\n",
       "      <td>0.330449</td>\n",
       "      <td>0.588383</td>\n",
       "      <td>0.604532</td>\n",
       "      <td>0.418852</td>\n",
       "    </tr>\n",
       "  </tbody>\n",
       "</table>\n",
       "</div>"
      ],
      "text/plain": [
       "                                                Arch  ...        F1\n",
       "0            <class 'xgboost.sklearn.XGBClassifier'>  ...  0.473525\n",
       "1                 <class 'sklearn.svm._classes.SVC'>  ...  0.477341\n",
       "2  <class 'sklearn.ensemble._forest.RandomForestC...  ...  0.478977\n",
       "3  <class 'sklearn.linear_model._logistic.Logisti...  ...  0.459963\n",
       "4                             <class '__main__.MLP'>  ...  0.418852\n",
       "\n",
       "[5 rows x 6 columns]"
      ]
     },
     "execution_count": 33,
     "metadata": {
      "tags": []
     },
     "output_type": "execute_result"
    }
   ],
   "source": [
    "resValGT6"
   ]
  },
  {
   "cell_type": "code",
   "execution_count": null,
   "metadata": {
    "colab": {
     "base_uri": "https://localhost:8080/",
     "height": 289
    },
    "id": "BX4PCJEKsEr8",
    "outputId": "d090f672-99db-4a2b-cbc4-baa62d2fd01c"
   },
   "outputs": [
    {
     "data": {
      "text/html": [
       "<div>\n",
       "<style scoped>\n",
       "    .dataframe tbody tr th:only-of-type {\n",
       "        vertical-align: middle;\n",
       "    }\n",
       "\n",
       "    .dataframe tbody tr th {\n",
       "        vertical-align: top;\n",
       "    }\n",
       "\n",
       "    .dataframe thead th {\n",
       "        text-align: right;\n",
       "    }\n",
       "</style>\n",
       "<table border=\"1\" class=\"dataframe\">\n",
       "  <thead>\n",
       "    <tr style=\"text-align: right;\">\n",
       "      <th></th>\n",
       "      <th>Arch</th>\n",
       "      <th>AUC</th>\n",
       "      <th>AUC CIs</th>\n",
       "      <th>sensitivity</th>\n",
       "      <th>sensitivity CIs</th>\n",
       "      <th>specificity</th>\n",
       "      <th>specificity CIs</th>\n",
       "      <th>prec</th>\n",
       "      <th>prec CIs</th>\n",
       "      <th>F1</th>\n",
       "      <th>F1 CIs</th>\n",
       "    </tr>\n",
       "  </thead>\n",
       "  <tbody>\n",
       "    <tr>\n",
       "      <th>0</th>\n",
       "      <td>&lt;class 'xgboost.sklearn.XGBClassifier'&gt;</td>\n",
       "      <td>0.658822</td>\n",
       "      <td>(0.6286845141761074, 0.6870923994485404)</td>\n",
       "      <td>0.340596</td>\n",
       "      <td>(0.30829965156794426, 0.37395015906680806)</td>\n",
       "      <td>0.671642</td>\n",
       "      <td>(0.5354477611940298, 0.7317164179104476)</td>\n",
       "      <td>0.649598</td>\n",
       "      <td>(0.5802208835341365, 0.7483433734939757)</td>\n",
       "      <td>0.450911</td>\n",
       "      <td>(0.4169180192013009, 0.4818234610917537)</td>\n",
       "    </tr>\n",
       "    <tr>\n",
       "      <th>1</th>\n",
       "      <td>&lt;class 'sklearn.svm._classes.SVC'&gt;</td>\n",
       "      <td>0.662920</td>\n",
       "      <td>(0.6279966882455194, 0.6916348228735839)</td>\n",
       "      <td>0.334477</td>\n",
       "      <td>(0.3031974985959303, 0.3730479242979243)</td>\n",
       "      <td>0.701493</td>\n",
       "      <td>(0.6001865671641791, 0.7686567164179104)</td>\n",
       "      <td>0.626506</td>\n",
       "      <td>(0.5571787148594378, 0.6899096385542168)</td>\n",
       "      <td>0.452606</td>\n",
       "      <td>(0.41757149644780306, 0.48608434159822006)</td>\n",
       "    </tr>\n",
       "    <tr>\n",
       "      <th>2</th>\n",
       "      <td>&lt;class 'sklearn.ensemble._forest.RandomForestC...</td>\n",
       "      <td>0.668855</td>\n",
       "      <td>(0.6332876281244381, 0.6880937930827788)</td>\n",
       "      <td>0.355966</td>\n",
       "      <td>(0.31048365210648743, 0.41002157497303093)</td>\n",
       "      <td>0.671642</td>\n",
       "      <td>(0.4973880597014926, 0.7615671641791043)</td>\n",
       "      <td>0.672691</td>\n",
       "      <td>(0.5700803212851406, 0.8105923694779116)</td>\n",
       "      <td>0.463187</td>\n",
       "      <td>(0.4234568798449612, 0.48258440297702515)</td>\n",
       "    </tr>\n",
       "    <tr>\n",
       "      <th>3</th>\n",
       "      <td>&lt;class 'sklearn.linear_model._logistic.Logisti...</td>\n",
       "      <td>0.643170</td>\n",
       "      <td>(0.6145226428100461, 0.665537897860097)</td>\n",
       "      <td>0.330677</td>\n",
       "      <td>(0.29636674344304925, 0.38290094339622643)</td>\n",
       "      <td>0.619403</td>\n",
       "      <td>(0.5298507462686567, 0.7014925373134329)</td>\n",
       "      <td>0.662651</td>\n",
       "      <td>(0.5620481927710843, 0.7615461847389557)</td>\n",
       "      <td>0.433704</td>\n",
       "      <td>(0.40242601089202845, 0.4612162252990992)</td>\n",
       "    </tr>\n",
       "    <tr>\n",
       "      <th>4</th>\n",
       "      <td>&lt;class '__main__.MLP'&gt;</td>\n",
       "      <td>0.591823</td>\n",
       "      <td>(0.5217170922495954, 0.6499505484625068)</td>\n",
       "      <td>0.282130</td>\n",
       "      <td>(0.22631789509334915, 0.3496442307692307)</td>\n",
       "      <td>0.582090</td>\n",
       "      <td>(0.39832089552238803, 0.7242537313432834)</td>\n",
       "      <td>0.602410</td>\n",
       "      <td>(0.4311746987951807, 0.7422188755020079)</td>\n",
       "      <td>0.381611</td>\n",
       "      <td>(0.30479643056330175, 0.44031329923273654)</td>\n",
       "    </tr>\n",
       "  </tbody>\n",
       "</table>\n",
       "</div>"
      ],
      "text/plain": [
       "                                                Arch  ...                                      F1 CIs\n",
       "0            <class 'xgboost.sklearn.XGBClassifier'>  ...    (0.4169180192013009, 0.4818234610917537)\n",
       "1                 <class 'sklearn.svm._classes.SVC'>  ...  (0.41757149644780306, 0.48608434159822006)\n",
       "2  <class 'sklearn.ensemble._forest.RandomForestC...  ...   (0.4234568798449612, 0.48258440297702515)\n",
       "3  <class 'sklearn.linear_model._logistic.Logisti...  ...   (0.40242601089202845, 0.4612162252990992)\n",
       "4                             <class '__main__.MLP'>  ...  (0.30479643056330175, 0.44031329923273654)\n",
       "\n",
       "[5 rows x 11 columns]"
      ]
     },
     "execution_count": 34,
     "metadata": {
      "tags": []
     },
     "output_type": "execute_result"
    }
   ],
   "source": [
    "resTestGT6"
   ]
  },
  {
   "cell_type": "code",
   "execution_count": null,
   "metadata": {
    "colab": {
     "base_uri": "https://localhost:8080/"
    },
    "id": "Vb1IF3uFsE-D",
    "outputId": "847a13f6-7d38-40e5-9988-def9c82b777a"
   },
   "outputs": [
    {
     "data": {
      "text/plain": [
       "{\"<class '__main__.MLP'>\": {'activation': 'rrelu',\n",
       "  'batchSize': 50,\n",
       "  'dropOutP': 0.1,\n",
       "  'initLR': 0.001,\n",
       "  'linearLayerSizes': ((1.5, 2), (2, 1.5)),\n",
       "  'nDropOutLayers': 0.2,\n",
       "  'nEpochs': 75,\n",
       "  'randomState': 888},\n",
       " \"<class 'sklearn.ensemble._forest.RandomForestClassifier'>\": {'max_depth': 5,\n",
       "  'max_features': 'log2',\n",
       "  'min_samples_split': 8,\n",
       "  'n_estimators': 50,\n",
       "  'random_state': 888},\n",
       " \"<class 'sklearn.linear_model._logistic.LogisticRegression'>\": {'C': 0.05,\n",
       "  'random_state': 888},\n",
       " \"<class 'sklearn.svm._classes.SVC'>\": {'C': 1.0,\n",
       "  'degree': 5,\n",
       "  'kernel': 'rbf',\n",
       "  'probability': True,\n",
       "  'random_state': 888},\n",
       " \"<class 'xgboost.sklearn.XGBClassifier'>\": {'gamma': 0.0,\n",
       "  'learning_rate': 0.01,\n",
       "  'max_depth': 4,\n",
       "  'n_estimators': 100,\n",
       "  'random_state': 888,\n",
       "  'reg_alpha': 0.1,\n",
       "  'reg_lambda': 0.1,\n",
       "  'subsample': 0.5}}"
      ]
     },
     "execution_count": 35,
     "metadata": {
      "tags": []
     },
     "output_type": "execute_result"
    }
   ],
   "source": [
    "bestArchGT6"
   ]
  },
  {
   "cell_type": "markdown",
   "metadata": {
    "id": "21VkEiyLKPJW"
   },
   "source": [
    "# 4. Fine-grained hyperparameter search\n",
    "\n",
    "For the best architectures, we explore more hyperparameter configurations"
   ]
  },
  {
   "cell_type": "markdown",
   "metadata": {
    "id": "CKxVuVcwKS-w"
   },
   "source": [
    "### 4.1 Whole Dataset\n",
    "\n",
    "The best class, found in the previous section, is XGBoost."
   ]
  },
  {
   "cell_type": "code",
   "execution_count": null,
   "metadata": {
    "id": "3mO0_AaxMi5m"
   },
   "outputs": [],
   "source": [
    "from xgboost.sklearn import XGBClassifier\n",
    "\n",
    "# let us define 70 / 30 train test splits\n",
    "randomState = 888\n",
    "rng = np.random.default_rng(randomState)\n",
    "trainIndexes = rng.choice([True, False], size=len(fullData), p=[0.7, 0.3])\n",
    "fullDataTrain, fullDataTest = fullData[trainIndexes], fullData[~trainIndexes]\n",
    "\n",
    "# common parameter values\n",
    "inputNNeigh = 10\n",
    "missingVal = -1\n",
    "nCVs = 5\n",
    "CVFolds = 2\n",
    "USnegProp = 0.5\n",
    "imputeMaxIter = 5\n",
    "\n",
    "# XGBoost: 2187 total combinations\n",
    "XGBGrid = {'learning_rate': [0.1, 0.01, 0.001],\n",
    "           'n_estimators': [100, 300, 500],\n",
    "           'max_depth': [4, 6, 8],\n",
    "           'subsample': [0.25, 0.5, 0.8],\n",
    "           'gamma': [0, 0.1, 1],       # default is 0\n",
    "           'reg_alpha': [0, 0.1, 1],   # default is 0\n",
    "           'reg_lambda': [0, 0.1, 1],  # default is 1\n",
    "           'random_state': [randomState]}\n",
    "\n",
    "nXGB = 750\n",
    "rng = np.random.default_rng(randomState)\n",
    "XGBConfigs = gen_configs(nXGB, XGBGrid, rng)\n",
    "\n",
    "# evaluate\n",
    "bestAUCsFineGridWhole, valMetricsFineGridWhole, testMetricsFineGridWhole, CIsFineGridWhole, bestConfigFineGridWhole, \\\n",
    "trainedModelFineGridWhole, trainDataFineGridWhole, testDataFineGridWhole, fNamesFineGridWhole = eval_model(modelClass=XGBClassifier, \n",
    "                                                                                                          trainingData=fullDataTrain, \n",
    "                                                                                                          testData=fullDataTest, \n",
    "                                                                                                          configs=XGBConfigs,\n",
    "                                                                                                          inputNNeigh=inputNNeigh,\n",
    "                                                                                                          missingVal=missingVal,\n",
    "                                                                                                          nCVs=nCVs,\n",
    "                                                                                                          CVFolds=CVFolds,\n",
    "                                                                                                          USnegProp=USnegProp,\n",
    "                                                                                                          imputeMaxIter=imputeMaxIter,\n",
    "                                                                                                          randomState=randomState)\n",
    "fgWholeResPath = ''\n",
    "with open(fgWholeResPath, 'wb') as handle:\n",
    "  pickle.dump([valMetricsFineGridWhole, testMetricsFineGridWhole, CIsFineGridWhole, \n",
    "               bestConfigFineGridWhole, trainedModelFineGridWhole, trainDataFineGridWhole, testDataFineGridWhole, fNamesFineGridWhole], handle)"
   ]
  },
  {
   "cell_type": "code",
   "execution_count": null,
   "metadata": {
    "colab": {
     "base_uri": "https://localhost:8080/"
    },
    "id": "FoGPUm2eP9V5",
    "outputId": "87d6c110-ecb5-40f9-a21a-878bfd6f0f79"
   },
   "outputs": [
    {
     "name": "stdout",
     "output_type": "stream",
     "text": [
      "{'AUC': 0.6454019088398242, 'prec': 0.2731866187399945, 'sensitivity': 0.6310710003607518, 'specificity': 0.6597328173188963, 'F1': 0.3804734450738551}\n",
      "{'AUC': 0.6495662442657946, 'prec': 0.30009746588693953, 'sensitivity': 0.6463414634146342, 'specificity': 0.6550279329608939, 'F1': 0.4095748913752766}\n",
      "{'AUC': (0.623618113276105, 0.667397352046146), 'prec': (0.27032008527924634, 0.3327973690167768), 'sensitivity': (0.5522357723577236, 0.7278455284552845), 'specificity': (0.5610335195530727, 0.7300744878957168), 'F1': (0.3819891263471533, 0.4325075154730327)}\n",
      "{'learning_rate': 0.01, 'n_estimators': 300, 'max_depth': 6, 'subsample': 0.5, 'gamma': 1.0, 'reg_alpha': 1.0, 'reg_lambda': 1.0, 'random_state': 888}\n"
     ]
    },
    {
     "name": "stderr",
     "output_type": "stream",
     "text": [
      "Trying to unpickle estimator LabelEncoder from version 0.24.2 when using version 1.0. This might lead to breaking code or invalid results. Use at your own risk. For more info please refer to:\n",
      "https://scikit-learn.org/stable/modules/model_persistence.html#security-maintainability-limitations\n"
     ]
    }
   ],
   "source": [
    "with open(fgWholeResPath, 'rb') as handle:\n",
    "  valMetricsFineGridWhole, testMetricsFineGridWhole, CIsFineGridWhole, bestConfigFineGridWhole,\\\n",
    "    trainedModelFineGridWhole, trainDataFineGridWhole, testDataFineGridWhole, fNamesFineGridWhole = pickle.load(handle)\n",
    "\n",
    "print(valMetricsFineGridWhole)\n",
    "print(testMetricsFineGridWhole)\n",
    "print(CIsFineGridWhole)\n",
    "print(bestConfigFineGridWhole)"
   ]
  },
  {
   "cell_type": "code",
   "execution_count": null,
   "metadata": {
    "colab": {
     "base_uri": "https://localhost:8080/",
     "height": 204
    },
    "id": "q7ENYEjwhvEx",
    "outputId": "cff111cd-a2c0-4c5f-bfe5-4b623cb0f012"
   },
   "outputs": [
    {
     "data": {
      "text/html": [
       "<div>\n",
       "<style scoped>\n",
       "    .dataframe tbody tr th:only-of-type {\n",
       "        vertical-align: middle;\n",
       "    }\n",
       "\n",
       "    .dataframe tbody tr th {\n",
       "        vertical-align: top;\n",
       "    }\n",
       "\n",
       "    .dataframe thead th {\n",
       "        text-align: right;\n",
       "    }\n",
       "</style>\n",
       "<table border=\"1\" class=\"dataframe\">\n",
       "  <thead>\n",
       "    <tr style=\"text-align: right;\">\n",
       "      <th></th>\n",
       "      <th>Arch</th>\n",
       "      <th>AUC</th>\n",
       "      <th>prec</th>\n",
       "      <th>sensitivity</th>\n",
       "      <th>specificity</th>\n",
       "      <th>F1</th>\n",
       "    </tr>\n",
       "  </thead>\n",
       "  <tbody>\n",
       "    <tr>\n",
       "      <th>0</th>\n",
       "      <td>&lt;class 'xgboost.sklearn.XGBClassifier'&gt;</td>\n",
       "      <td>0.645402</td>\n",
       "      <td>0.273187</td>\n",
       "      <td>0.631071</td>\n",
       "      <td>0.659733</td>\n",
       "      <td>0.380473</td>\n",
       "    </tr>\n",
       "    <tr>\n",
       "      <th>1</th>\n",
       "      <td>&lt;class 'sklearn.svm._classes.SVC'&gt;</td>\n",
       "      <td>0.626633</td>\n",
       "      <td>0.288871</td>\n",
       "      <td>0.506624</td>\n",
       "      <td>0.746643</td>\n",
       "      <td>0.366693</td>\n",
       "    </tr>\n",
       "    <tr>\n",
       "      <th>2</th>\n",
       "      <td>&lt;class 'sklearn.ensemble._forest.RandomForestC...</td>\n",
       "      <td>0.643830</td>\n",
       "      <td>0.278059</td>\n",
       "      <td>0.607187</td>\n",
       "      <td>0.680473</td>\n",
       "      <td>0.380581</td>\n",
       "    </tr>\n",
       "    <tr>\n",
       "      <th>3</th>\n",
       "      <td>&lt;class 'sklearn.linear_model._logistic.Logisti...</td>\n",
       "      <td>0.632929</td>\n",
       "      <td>0.267197</td>\n",
       "      <td>0.597250</td>\n",
       "      <td>0.668608</td>\n",
       "      <td>0.368775</td>\n",
       "    </tr>\n",
       "    <tr>\n",
       "      <th>4</th>\n",
       "      <td>&lt;class '__main__.MLP'&gt;</td>\n",
       "      <td>0.566554</td>\n",
       "      <td>NaN</td>\n",
       "      <td>0.495642</td>\n",
       "      <td>0.637466</td>\n",
       "      <td>0.263981</td>\n",
       "    </tr>\n",
       "  </tbody>\n",
       "</table>\n",
       "</div>"
      ],
      "text/plain": [
       "                                                Arch  ...        F1\n",
       "0            <class 'xgboost.sklearn.XGBClassifier'>  ...  0.380473\n",
       "1                 <class 'sklearn.svm._classes.SVC'>  ...  0.366693\n",
       "2  <class 'sklearn.ensemble._forest.RandomForestC...  ...  0.380581\n",
       "3  <class 'sklearn.linear_model._logistic.Logisti...  ...  0.368775\n",
       "4                             <class '__main__.MLP'>  ...  0.263981\n",
       "\n",
       "[5 rows x 6 columns]"
      ]
     },
     "execution_count": 43,
     "metadata": {
      "tags": []
     },
     "output_type": "execute_result"
    }
   ],
   "source": [
    "resValWhole"
   ]
  },
  {
   "cell_type": "markdown",
   "metadata": {
    "id": "xu_NY7iUh4Y_"
   },
   "source": [
    "The same configuration as before has been found, so it is a local optima."
   ]
  },
  {
   "cell_type": "markdown",
   "metadata": {
    "id": "4gM72lqdQZh7"
   },
   "source": [
    "### 4.2 0 to 5 Dataset\n",
    "\n",
    "The best class, found in the previous section, is Random Forest (tie with SVM)."
   ]
  },
  {
   "cell_type": "code",
   "execution_count": null,
   "metadata": {
    "colab": {
     "background_save": true
    },
    "id": "q7KduGupQYga"
   },
   "outputs": [],
   "source": [
    "# let us define 70 / 30 train test splits\n",
    "randomState = 888\n",
    "rng = np.random.default_rng(randomState)\n",
    "\n",
    "ages0To5 = pd.read_csv(path0To5, index_col = 0, dtype=int)\n",
    "\n",
    "# Define 70 / 30 train test splits\n",
    "dataSplits = [0.7, 0.3]\n",
    "trainIndexes = rng.choice([True, False], size=len(ages0To5), p=dataSplits)\n",
    "ages0To5Train, ages0To5Test = ages0To5[trainIndexes], ages0To5[~trainIndexes]\n",
    "\n",
    "# RF: 756 total combinations\n",
    "RFGrid = {'n_estimators': [25, 50, 100, 200, 300, 400, 500, 750, 1000],\n",
    "          'max_depth': [3, 4, 5, 6, 7, 8, 9],\n",
    "          'min_samples_split': [2, 4, 8, 16], # default is 2\n",
    "          'max_features': ['auto', 'sqrt', 'log2'],\n",
    "          'random_state': [randomState]}\n",
    "\n",
    "nRF = 750\n",
    "rng = np.random.default_rng(randomState)\n",
    "RFConfigs = gen_configs(nRF, RFGrid, rng)\n",
    "\n",
    "# evaluate\n",
    "bestAUCsFineGrid0To5, valMetricsFineGrid0To5, testMetricsFineGrid0To5, CIsFineGrid0To5, bestConfigFineGrid0To5, \\\n",
    "trainedModelFineGrid0To5, trainDataFineGrid0To5, testDataFineGrid0To5, fNamesFineGrid0To5 = eval_model(modelClass=RandomForestClassifier, \n",
    "                                                                                                      trainingData=ages0To5Train, \n",
    "                                                                                                      testData=ages0To5Test, \n",
    "                                                                                                      configs=RFConfigs,\n",
    "                                                                                                      inputNNeigh=inputNNeigh,\n",
    "                                                                                                      missingVal=missingVal,\n",
    "                                                                                                      nCVs=nCVs,\n",
    "                                                                                                      CVFolds=CVFolds,\n",
    "                                                                                                      USnegProp=USnegProp,\n",
    "                                                                                                      imputeMaxIter=imputeMaxIter,\n",
    "                                                                                                      randomState=randomState)\n",
    "fg0To5Res = ''\n",
    "with open(fg0To5Res, 'wb') as handle:\n",
    "  pickle.dump([valMetricsFineGrid0To5, testMetricsFineGrid0To5, CIsFineGrid0To5, bestConfigFineGrid0To5,\n",
    "               trainedModelFineGrid0To5, trainDataFineGrid0To5, testDataFineGrid0To5, fNamesFineGrid0To5], handle)"
   ]
  },
  {
   "cell_type": "code",
   "execution_count": null,
   "metadata": {
    "colab": {
     "base_uri": "https://localhost:8080/"
    },
    "id": "ay8g0CwyRuQ4",
    "outputId": "ca020487-0ede-4316-d3ac-689f4a68b033"
   },
   "outputs": [
    {
     "name": "stdout",
     "output_type": "stream",
     "text": [
      "{'AUC': 0.5862182898627032, 'prec': 0.1432624215030502, 'sensitivity': 0.604716642569542, 'specificity': 0.5677199371558646, 'F1': 0.231149468565442}\n",
      "{'AUC': 0.6256353465655791, 'prec': 0.14983643938667435, 'sensitivity': 0.6507936507936508, 'specificity': 0.592128801431127, 'F1': 0.2468170829975826}\n",
      "{'AUC': (0.5524412925575717, 0.6708918987988756), 'prec': (0.12782577575985424, 0.19180141579731735), 'sensitivity': (0.42857142857142855, 0.897222222222222), 'specificity': (0.382871198568873, 0.7433363148479427), 'F1': (0.19928082191780822, 0.29016629261770605)}\n",
      "{'n_estimators': 50, 'max_depth': 8, 'min_samples_split': 4, 'max_features': 'sqrt', 'random_state': 888}\n"
     ]
    },
    {
     "name": "stderr",
     "output_type": "stream",
     "text": [
      "Trying to unpickle estimator DecisionTreeClassifier from version 0.24.2 when using version 1.0. This might lead to breaking code or invalid results. Use at your own risk. For more info please refer to:\n",
      "https://scikit-learn.org/stable/modules/model_persistence.html#security-maintainability-limitations\n",
      "Trying to unpickle estimator RandomForestClassifier from version 0.24.2 when using version 1.0. This might lead to breaking code or invalid results. Use at your own risk. For more info please refer to:\n",
      "https://scikit-learn.org/stable/modules/model_persistence.html#security-maintainability-limitations\n"
     ]
    }
   ],
   "source": [
    "with open(fg0To5Res, 'rb') as handle:\n",
    "  valMetricsFineGrid0To5, testMetricsFineGrid0To5, CIsFineGrid0To5, bestConfigFineGrid0To5,\\\n",
    "    trainedModelFineGrid0To5, trainDataFineGrid0To5, testDataFineGrid0To5, fNamesFineGrid0To5 = pickle.load(handle)\n",
    "\n",
    "print(valMetricsFineGrid0To5)\n",
    "print(testMetricsFineGrid0To5)\n",
    "print(CIsFineGrid0To5)\n",
    "print(bestConfigFineGrid0To5)"
   ]
  },
  {
   "cell_type": "code",
   "execution_count": null,
   "metadata": {
    "colab": {
     "base_uri": "https://localhost:8080/"
    },
    "id": "2z1UMEvS0aOv",
    "outputId": "2513ebc1-39c4-4138-ecde-4ba8421d3656"
   },
   "outputs": [
    {
     "data": {
      "text/plain": [
       "{'AUC': 0.5862182898627032,\n",
       " 'F1': 0.231149468565442,\n",
       " 'prec': 0.1432624215030502,\n",
       " 'sensitivity': 0.604716642569542,\n",
       " 'specificity': 0.5677199371558646}"
      ]
     },
     "execution_count": 8,
     "metadata": {},
     "output_type": "execute_result"
    }
   ],
   "source": [
    "resVal0To5"
   ]
  },
  {
   "cell_type": "markdown",
   "metadata": {
    "id": "y1pPsWNBTd3T"
   },
   "source": [
    "This time, we have found a configuration that performs a bit better."
   ]
  },
  {
   "cell_type": "markdown",
   "metadata": {
    "id": "_U85L1RcT0WC"
   },
   "source": [
    "### 4.3 6 > Dataset\n",
    "\n",
    "The best class, found in the previous section, is Random Forest."
   ]
  },
  {
   "cell_type": "code",
   "execution_count": null,
   "metadata": {
    "colab": {
     "background_save": true
    },
    "id": "Kq3IOBUgOqRO"
   },
   "outputs": [],
   "source": [
    "# let us define 70 / 30 train test splits\n",
    "randomState = 888\n",
    "rng = np.random.default_rng(randomState)\n",
    "\n",
    "agesGT6 = pd.read_csv(pathGT6, index_col = 0, dtype=int)\n",
    "\n",
    "# Define 70 / 30 train test splits\n",
    "dataSplits = [0.7, 0.3]\n",
    "trainIndexes = rng.choice([True, False], size=len(agesGT6), p=dataSplits)\n",
    "agesGT6Train, agesGT6Test = agesGT6[trainIndexes], agesGT6[~trainIndexes]\n",
    "\n",
    "# RF: 756 total combinations\n",
    "RFGrid = {'n_estimators': [25, 50, 100, 200, 300, 400, 500, 750, 1000],\n",
    "          'max_depth': [3, 4, 5, 6, 7, 8, 9],\n",
    "          'min_samples_split': [2, 4, 8, 16], # default is 2\n",
    "          'max_features': ['auto', 'sqrt', 'log2'],\n",
    "          'random_state': [randomState]}\n",
    "\n",
    "nRF = 750\n",
    "rng = np.random.default_rng(randomState)\n",
    "RFConfigs = gen_configs(nRF, RFGrid, rng)\n",
    "\n",
    "# evaluate\n",
    "bestAUCsFineGridGT6, valMetricsFineGridGT6, testMetricsFineGridGT6, CIsFineGridGT6, bestConfigFineGridGT6, \\\n",
    "trainedModelFineGridGT6, trainDataFineGridGT6, testDataFineGridGT6, fNamesFineGridGT6 = eval_model(modelClass=RandomForestClassifier,\n",
    "                                                                                                      trainingData=agesGT6Train,\n",
    "                                                                                                      testData=agesGT6Test,\n",
    "                                                                                                      configs=RFConfigs,\n",
    "                                                                                                      inputNNeigh=inputNNeigh,\n",
    "                                                                                                      missingVal=missingVal,\n",
    "                                                                                                      nCVs=nCVs,\n",
    "                                                                                                      CVFolds=CVFolds,\n",
    "                                                                                                      USnegProp=USnegProp,\n",
    "                                                                                                      imputeMaxIter=imputeMaxIter,\n",
    "                                                                                                      randomState=randomState)\n",
    "\n",
    "fgResGT6Path = ''\n",
    "with open(fgResGT6Path, 'wb') as handle:\n",
    "  pickle.dump([bestAUCsFineGridGT6, valMetricsFineGridGT6, testMetricsFineGridGT6, CIsFineGridGT6, bestConfigFineGridGT6,\\\n",
    "               trainedModelFineGridGT6, trainDataFineGridGT6, testDataFineGridGT6, fNamesFineGridGT6], handle)"
   ]
  },
  {
   "cell_type": "code",
   "execution_count": null,
   "metadata": {
    "colab": {
     "base_uri": "https://localhost:8080/"
    },
    "id": "Bs3Z2zJoPTIs",
    "outputId": "36dee3b0-fbb9-4c88-a61b-9199ac29fed1"
   },
   "outputs": [
    {
     "name": "stdout",
     "output_type": "stream",
     "text": [
      "{'AUC': 0.6533325900839684, 'prec': 0.38333849069428316, 'sensitivity': 0.646061246315311, 'specificity': 0.6606039338526257, 'F1': 0.47937797534264204}\n",
      "{'AUC': 0.6714544746148774, 'prec': 0.35782857828578285, 'sensitivity': 0.664179104477612, 'specificity': 0.6767068273092369, 'F1': 0.4646694737810911}\n",
      "{'AUC': (0.6392371725708805, 0.6897054636456272), 'prec': (0.30995177724196943, 0.4113095238095237), 'sensitivity': (0.5550373134328359, 0.746641791044776), 'specificity': (0.5770582329317269, 0.7933232931726903), 'F1': (0.42984335554042086, 0.4871361941673175)}\n",
      "{'n_estimators': 500, 'max_depth': 5, 'min_samples_split': 16, 'max_features': 'auto', 'random_state': 888}\n"
     ]
    },
    {
     "name": "stderr",
     "output_type": "stream",
     "text": [
      "Trying to unpickle estimator DecisionTreeClassifier from version 0.24.2 when using version 1.0. This might lead to breaking code or invalid results. Use at your own risk. For more info please refer to:\n",
      "https://scikit-learn.org/stable/modules/model_persistence.html#security-maintainability-limitations\n",
      "Trying to unpickle estimator RandomForestClassifier from version 0.24.2 when using version 1.0. This might lead to breaking code or invalid results. Use at your own risk. For more info please refer to:\n",
      "https://scikit-learn.org/stable/modules/model_persistence.html#security-maintainability-limitations\n"
     ]
    }
   ],
   "source": [
    "with open(fgResGT6Path, 'rb') as handle:\n",
    "  bestAUCsFineGridGT6, valMetricsFineGridGT6, testMetricsFineGridGT6, CIsFineGridGT6, bestConfigFineGridGT6,\\\n",
    "    trainedModelFineGridGT6, trainDataFineGridGT6, testDataFineGridGT6, fNamesFineGridGT6 = pickle.load(handle)\n",
    "\n",
    "print(valMetricsFineGridGT6)\n",
    "print(testMetricsFineGridGT6)\n",
    "print(CIsFineGridGT6)\n",
    "print(bestConfigFineGridGT6)"
   ]
  },
  {
   "cell_type": "code",
   "execution_count": null,
   "metadata": {
    "colab": {
     "background_save": true,
     "base_uri": "https://localhost:8080/",
     "height": 204
    },
    "id": "T99B7zssPeKa",
    "outputId": "5d1eb4bd-0760-41c5-cdf5-8968d8863681"
   },
   "outputs": [
    {
     "data": {
      "text/html": [
       "<div>\n",
       "<style scoped>\n",
       "    .dataframe tbody tr th:only-of-type {\n",
       "        vertical-align: middle;\n",
       "    }\n",
       "\n",
       "    .dataframe tbody tr th {\n",
       "        vertical-align: top;\n",
       "    }\n",
       "\n",
       "    .dataframe thead th {\n",
       "        text-align: right;\n",
       "    }\n",
       "</style>\n",
       "<table border=\"1\" class=\"dataframe\">\n",
       "  <thead>\n",
       "    <tr style=\"text-align: right;\">\n",
       "      <th></th>\n",
       "      <th>Arch</th>\n",
       "      <th>AUC</th>\n",
       "      <th>prec</th>\n",
       "      <th>sensitivity</th>\n",
       "      <th>specificity</th>\n",
       "      <th>F1</th>\n",
       "    </tr>\n",
       "  </thead>\n",
       "  <tbody>\n",
       "    <tr>\n",
       "      <th>0</th>\n",
       "      <td>&lt;class 'xgboost.sklearn.XGBClassifier'&gt;</td>\n",
       "      <td>0.649057</td>\n",
       "      <td>0.379873</td>\n",
       "      <td>0.631582</td>\n",
       "      <td>0.666533</td>\n",
       "      <td>0.473525</td>\n",
       "    </tr>\n",
       "    <tr>\n",
       "      <th>1</th>\n",
       "      <td>&lt;class 'sklearn.svm._classes.SVC'&gt;</td>\n",
       "      <td>0.651372</td>\n",
       "      <td>0.377761</td>\n",
       "      <td>0.652936</td>\n",
       "      <td>0.649808</td>\n",
       "      <td>0.477341</td>\n",
       "    </tr>\n",
       "    <tr>\n",
       "      <th>2</th>\n",
       "      <td>&lt;class 'sklearn.ensemble._forest.RandomForestC...</td>\n",
       "      <td>0.652008</td>\n",
       "      <td>0.376682</td>\n",
       "      <td>0.662866</td>\n",
       "      <td>0.641150</td>\n",
       "      <td>0.478977</td>\n",
       "    </tr>\n",
       "    <tr>\n",
       "      <th>3</th>\n",
       "      <td>&lt;class 'sklearn.linear_model._logistic.Logisti...</td>\n",
       "      <td>0.635142</td>\n",
       "      <td>0.364761</td>\n",
       "      <td>0.625547</td>\n",
       "      <td>0.644738</td>\n",
       "      <td>0.459963</td>\n",
       "    </tr>\n",
       "    <tr>\n",
       "      <th>4</th>\n",
       "      <td>&lt;class '__main__.MLP'&gt;</td>\n",
       "      <td>0.596457</td>\n",
       "      <td>0.330449</td>\n",
       "      <td>0.588383</td>\n",
       "      <td>0.604532</td>\n",
       "      <td>0.418852</td>\n",
       "    </tr>\n",
       "  </tbody>\n",
       "</table>\n",
       "</div>"
      ],
      "text/plain": [
       "                                                Arch  ...        F1\n",
       "0            <class 'xgboost.sklearn.XGBClassifier'>  ...  0.473525\n",
       "1                 <class 'sklearn.svm._classes.SVC'>  ...  0.477341\n",
       "2  <class 'sklearn.ensemble._forest.RandomForestC...  ...  0.478977\n",
       "3  <class 'sklearn.linear_model._logistic.Logisti...  ...  0.459963\n",
       "4                             <class '__main__.MLP'>  ...  0.418852\n",
       "\n",
       "[5 rows x 6 columns]"
      ]
     },
     "execution_count": 0,
     "metadata": {
      "tags": []
     },
     "output_type": "execute_result"
    }
   ],
   "source": [
    "resValGT6"
   ]
  },
  {
   "cell_type": "markdown",
   "metadata": {
    "id": "gmPF2vc9f1_M"
   },
   "source": [
    "We have marginally improved its performance."
   ]
  },
  {
   "cell_type": "markdown",
   "metadata": {
    "id": "oHXE8uduY8r2"
   },
   "source": [
    "# 5. Forward feature selection with the best configurations"
   ]
  },
  {
   "cell_type": "code",
   "execution_count": null,
   "metadata": {
    "id": "fL21PUPvY6xd"
   },
   "outputs": [],
   "source": [
    "def forward_feature_selection(trainData, testData, modelEvalParams, targetName='final_diagnosis_code'):\n",
    "  \"\"\" Greedy forward feature selection.\n",
    "\n",
    "  **Procedure**:\n",
    "  1 Compute, for each of the features, the classifier score and sort them in a \n",
    "  vector vf.\n",
    "  2 Add the best feature to the vector of features to use f\n",
    "  3 While vf has features fi\n",
    "    3.1 If the classifier performs statistically (by mean AUC) better with fi in f:\n",
    "      3.1.1 add fi to f\n",
    "    3.2 remove fi from vf \n",
    "\n",
    "  :param trainData: (pd.DataFrame) paediatric training data\n",
    "  :param testData: (pd.DataFrame) paediatric testData data\n",
    "  :param modelEvalParams: (dict) keyword arguments for the eval_model function\n",
    "  (except 'trainingData' and 'testData') \n",
    "  :return: \n",
    "    - model instance trained with the best set of features\n",
    "    - list of features picked as relevant, in order of importance\n",
    "    - ... objects returned by the eval_model function \"\"\"\n",
    "\n",
    "  features = [[f, []] for f in trainData.columns if f != targetName]\n",
    "\n",
    "  # 1\n",
    "  for i, featurePair in enumerate(features):\n",
    "    feature = featurePair[0]\n",
    "    trData = trainData.loc[:, [feature, targetName]].copy()\n",
    "    teData = testData.loc[:, [feature, targetName]].copy()\n",
    "\n",
    "    AUCs, _, _, _, _, _, _, _ = eval_model(trainingData=trData, \n",
    "                                           testData=teData,\n",
    "                                           bootstrapTest=False,\n",
    "                                           verbose=False,\n",
    "                                           **modelEvalParams)\n",
    "    \n",
    "    # compare with mean AUC. We keep the array of AUCs themselves to \n",
    "    # perform statistical tests.\n",
    "    features[i][1] = AUCs\n",
    "\n",
    "  bestAUCs = features[np.argmax([np.mean(f[1]) for f in features])][1]\n",
    "  features = sorted(features, key=lambda t: np.mean(t[1]))\n",
    "  features = [f[0] for f in features]\n",
    "\n",
    "  # 2\n",
    "  bestInitFeature = features.pop()\n",
    "  importantFeatures = [bestInitFeature]\n",
    "  print(f'Best Initial Feature: {bestInitFeature} with mean AUC of {round(np.mean(bestAUCs), 3)}')\n",
    "\n",
    "  # 3\n",
    "  while features:\n",
    "    # 3.2\n",
    "    feature = features.pop()\n",
    "\n",
    "    trData = trainData.loc[:, importantFeatures + [feature] + [targetName]].copy()\n",
    "    teData = testData.loc[:, importantFeatures + [feature] + [targetName]].copy()\n",
    "\n",
    "    AUCs, _, _, _, _, _, _, _ = eval_model(trainingData=trData, \n",
    "                                           testData=teData,\n",
    "                                           bootstrapTest=False,\n",
    "                                           verbose=False,\n",
    "                                           **modelEvalParams)\n",
    "    # 3.1 Statistical comparison (90% confidence)\n",
    "    pVal = ttest_rel(bestAUCs, AUCs)[1]\n",
    "    if pVal <= 0.1 and np.mean(AUCs) > np.mean(bestAUCs):\n",
    "      importantFeatures = importantFeatures + [feature]\n",
    "      print(f'Picked features: {importantFeatures}. Mean AUC from \\\n",
    "      {round(np.mean(bestAUCs), 3)} to {round(np.mean(AUCs), 3)} with p-value of {round(pVal, 5)}')\n",
    "      bestAUCs = AUCs\n",
    "    else:\n",
    "      print(f'{feature} has not been picked')\n",
    "\n",
    "  # compute metrics with best configuration (now including bootstrap for CIs)\n",
    "  trData = trainData.loc[:, importantFeatures + [targetName]]\n",
    "  teData = testData.loc[:, importantFeatures + [targetName]]\n",
    "\n",
    "  print('Training model with best performing features...')\n",
    "  AUCs, valMetrics, testMetrics, CIs, bestConfig, \\\n",
    "  trainedModel, trainData, testData, fNames = eval_model(trainingData=trData, \n",
    "                                                         testData=teData,\n",
    "                                                         bootstrapTest=True,\n",
    "                                                         **modelEvalParams)\n",
    "\n",
    "  return trainedModel, importantFeatures, valMetrics, testMetrics,\\\n",
    "    CIs, bestConfig, trainData, testData, fNames"
   ]
  },
  {
   "cell_type": "markdown",
   "metadata": {
    "id": "9tG1eUnsTwsY"
   },
   "source": [
    "### 5.1 Whole dataset. \n",
    "\n",
    "We use the configuration found in 3.2, as we could not find a better config. in 4.1."
   ]
  },
  {
   "cell_type": "code",
   "execution_count": null,
   "metadata": {
    "id": "Cgkwr3_7OYzA"
   },
   "outputs": [],
   "source": [
    "fullData = pd.read_csv(fullDataPath, index_col=0, dtype=int)\n",
    "\n",
    "randomState = 888\n",
    "rng = np.random.default_rng(randomState)\n",
    "\n",
    "# Define 70 / 30 train test splits\n",
    "dataSplits = [0.7, 0.3]\n",
    "trainIndexes = rng.choice([True, False], size=len(fullData), p=dataSplits)\n",
    "fullDataTrain, fullDataTest = fullData[trainIndexes], fullData[~trainIndexes]\n",
    "\n",
    "bestArchitecture = resValWhole.iloc[resValWhole.drop('Arch', axis=1).idxmax()['AUC']]['Arch']\n",
    "bestConfig = bestArchWhole[bestArchitecture]\n",
    "\n",
    "# XGBoost is the best architecture\n",
    "\n",
    "modelEvalParams = {'modelClass': XGBClassifier,\n",
    "                   'configs': [bestConfig],\n",
    "                   'inputNNeigh': inputNNeigh,\n",
    "                   'missingVal': missingVal,\n",
    "                   'nCVs': nCVs,\n",
    "                   'CVFolds': CVFolds,\n",
    "                   'USnegProp': USnegProp,\n",
    "                   'imputeMaxIter': imputeMaxIter,\n",
    "                   'randomState': randomState}\n",
    "\n",
    "FSWholeBestTrainedModel, FSWholeImportantFeatures, FSWholeValMetrics, FSWholeTestMetrics, FSWholeCIs,\\\n",
    "  FSWholeBestConfig, FSWholeTrainData, FSWholeTestData, FSWholeFNames = forward_feature_selection(fullDataTrain, fullDataTest, modelEvalParams)\n",
    "\n",
    "fsResWholePath = ''\n",
    "with open(fsResWholePath, 'wb') as handle:\n",
    "  pickle.dump([FSWholeBestTrainedModel, FSWholeImportantFeatures, FSWholeValMetrics, FSWholeTestMetrics, FSWholeCIs,\\\n",
    "               FSWholeBestConfig, FSWholeTrainData, FSWholeTestData, FSWholeFNames], handle)"
   ]
  },
  {
   "cell_type": "code",
   "execution_count": null,
   "metadata": {
    "id": "e2WOfVlfyy6m"
   },
   "outputs": [],
   "source": [
    "with open(fsResWholePath, 'rb') as handle:\n",
    "  FSWholeBestTrainedModel, FSWholeImportantFeatures, FSWholeValMetrics, FSWholeTestMetrics, FSWholeCIs,\\\n",
    "    FSWholeBestConfig, FSWholeTrainData, FSWholeTestData, FSWholeFNames = pickle.load(handle)"
   ]
  },
  {
   "cell_type": "code",
   "execution_count": null,
   "metadata": {
    "colab": {
     "base_uri": "https://localhost:8080/"
    },
    "id": "Isb8cy-tUHGL",
    "outputId": "3dd4cbc9-6b1e-47ce-84bb-2e94b23d188d"
   },
   "outputs": [
    {
     "data": {
      "text/plain": [
       "({'AUC': 0.6343539637284555,\n",
       "  'F1': 0.37814455496402866,\n",
       "  'prec': 0.30591790128280916,\n",
       "  'sensitivity': 0.49719059527475845,\n",
       "  'specificity': 0.7715173321821525},\n",
       " ['headache', 'smell', 'taste_smell', 'ausc_type', 'vomiting', 'irritability'])"
      ]
     },
     "execution_count": 7,
     "metadata": {
      "tags": []
     },
     "output_type": "execute_result"
    }
   ],
   "source": [
    "FSWholeValMetrics, FSWholeImportantFeatures"
   ]
  },
  {
   "cell_type": "markdown",
   "metadata": {
    "id": "vKt3chCWUFK8"
   },
   "source": [
    "### 5.2 Ages 0 to 5\n",
    "\n",
    "We use the configuration found in 4.2, as it performed a bit better than the one found in 3.3."
   ]
  },
  {
   "cell_type": "code",
   "execution_count": null,
   "metadata": {
    "id": "PhdHH4fNNELz"
   },
   "outputs": [],
   "source": [
    "# 0-5 DATASET\n",
    "randomState = 888\n",
    "rng = np.random.default_rng(randomState)\n",
    "\n",
    "ages0To5 = pd.read_csv(path0To5, index_col = 0, dtype=int)\n",
    "\n",
    "# Define 70 / 30 train test splits\n",
    "dataSplits = [0.7, 0.3]\n",
    "trainIndexes = rng.choice([True, False], size=len(ages0To5), p=dataSplits)\n",
    "ages0To5Train, ages0To5Test = ages0To5[trainIndexes], ages0To5[~trainIndexes]\n",
    "\n",
    "# Random Forest is the best architecture\n",
    "\n",
    "modelEvalParams = {'modelClass': RandomForestClassifier,\n",
    "                   'configs': [bestConfigFineGrid0To5],\n",
    "                   'inputNNeigh': inputNNeigh,\n",
    "                   'missingVal': missingVal,\n",
    "                   'nCVs': nCVs,\n",
    "                   'CVFolds': CVFolds,\n",
    "                   'USnegProp': USnegProp,\n",
    "                   'imputeMaxIter': imputeMaxIter,\n",
    "                   'randomState': randomState}\n",
    "\n",
    "FS05BestTrainedModel, FS05ImportantFeatures, FS05ValMetrics, FS05TestMetrics, FS05CIs,\\\n",
    "  FS05BestConfig, FS05TrainData, FS05TestData, FS05FNames = forward_feature_selection(ages0To5Train, ages0To5Train, modelEvalParams)\n",
    "\n",
    "FS0To5ResPath = ''\n",
    "with open(FS0To5ResPath, 'wb') as handle:\n",
    "  pickle.dump([FS05BestTrainedModel, FS05ImportantFeatures, FS05ValMetrics, FS05TestMetrics, FS05CIs,\\\n",
    "               FS05BestConfig, FS05TrainData, FS05TestData, FS05FNames], handle)"
   ]
  },
  {
   "cell_type": "code",
   "execution_count": null,
   "metadata": {
    "id": "LYGi8DJ_zlhq"
   },
   "outputs": [],
   "source": [
    "with open(FS0To5ResPath, 'rb') as handle:\n",
    "  FS05BestTrainedModel, FS05ImportantFeatures, FS05ValMetrics, FS05TestMetrics, FS05CIs,\\\n",
    "    FS05BestConfig, FS05TrainData, FS05TestData, FS05FNames = pickle.load(handle)"
   ]
  },
  {
   "cell_type": "code",
   "execution_count": null,
   "metadata": {
    "colab": {
     "base_uri": "https://localhost:8080/"
    },
    "id": "8i__ptgksvwS",
    "outputId": "75168b65-4e1c-4ed6-858b-48a3457d2401"
   },
   "outputs": [
    {
     "data": {
      "text/plain": [
       "({'AUC': 0.5865914559581311,\n",
       "  'F1': 0.22449694823364172,\n",
       "  'prec': 0.12814690324171163,\n",
       "  'sensitivity': 0.9080788854001252,\n",
       "  'specificity': 0.26510402651613696},\n",
       " ['odynophagia', 'ausc_type', 'adenopathies', 'rash'])"
      ]
     },
     "execution_count": 37,
     "metadata": {
      "tags": []
     },
     "output_type": "execute_result"
    }
   ],
   "source": [
    "FS05ValMetrics, FS05ImportantFeatures"
   ]
  },
  {
   "cell_type": "markdown",
   "metadata": {
    "id": "VYpyeMnoVb6Q"
   },
   "source": [
    "### 5.3 > 6 dataset\n",
    "\n",
    "We use the config found in 3.4, as it was the one that performed best in our hyperparameter subspace."
   ]
  },
  {
   "cell_type": "code",
   "execution_count": null,
   "metadata": {
    "id": "AlCzFPL9zprS"
   },
   "outputs": [],
   "source": [
    "randomState = 888\n",
    "rng = np.random.default_rng(randomState)\n",
    "\n",
    "agesGT6 = pd.read_csv(pathGT6, index_col = 0, dtype=int)\n",
    "\n",
    "# Define 70 / 30 train test splits\n",
    "dataSplits = [0.7, 0.3] \n",
    "trainIndexes = rng.choice([True, False], size=len(agesGT6), p=dataSplits)\n",
    "agesGT6Train, agesGT6Test = agesGT6[trainIndexes], agesGT6[~trainIndexes]\n",
    "\n",
    "bestArchitecture = resValGT6.iloc[resValGT6.drop('Arch', axis=1).idxmax()['AUC']]['Arch']\n",
    "bestConfig = bestArchGT6[bestArchitecture]\n",
    "\n",
    "# SVC is the best architecture\n",
    "\n",
    "modelEvalParams = {'modelClass': SVC,\n",
    "                   'configs': [bestConfig],\n",
    "                   'inputNNeigh': inputNNeigh,\n",
    "                   'missingVal': missingVal,\n",
    "                   'nCVs': nCVs,\n",
    "                   'CVFolds': CVFolds,\n",
    "                   'USnegProp': USnegProp,\n",
    "                   'imputeMaxIter': imputeMaxIter,\n",
    "                   'randomState': randomState}\n",
    "\n",
    "FS617BestTrainedModel, FS617ImportantFeatures, FS617ValMetrics, FS617TestMetrics, FS617CIs,\\\n",
    "  FS617BestConfig, FS617TrainData, FS617TestData, FS617FNames = forward_feature_selection(agesGT6Train, agesGT6Test, modelEvalParams)\n",
    "\n",
    "FSGT6ResPath = ''\n",
    "with open(FSGT6ResPath, 'wb') as handle:\n",
    "  pickle.dump([FS617BestTrainedModel, FS617ImportantFeatures, FS617ValMetrics, FS617TestMetrics, FS617CIs,\\\n",
    "                FS617BestConfig, FS617TrainData, FS617TestData, FS617FNames], handle)"
   ]
  },
  {
   "cell_type": "code",
   "execution_count": null,
   "metadata": {
    "id": "DuYSh1yp0HTT"
   },
   "outputs": [],
   "source": [
    "with open(FSGT6ResPath, 'rb') as handle:\n",
    "  FS617BestTrainedModel, FS617ImportantFeatures, FS617ValMetrics, FS617TestMetrics, FS617CIs,\\\n",
    "    FS617BestConfig, FS617TrainData, FS617TestData, FS617FNames = pickle.load(handle)"
   ]
  },
  {
   "cell_type": "code",
   "execution_count": null,
   "metadata": {
    "colab": {
     "base_uri": "https://localhost:8080/"
    },
    "id": "pK83Qdats7Iq",
    "outputId": "e317f9a3-4a25-48e5-b720-57d3bbd2942e"
   },
   "outputs": [
    {
     "data": {
      "text/plain": [
       "({'AUC': 0.6671407614320507,\n",
       "  'F1': 0.49558212482199365,\n",
       "  'prec': 0.3985144317929666,\n",
       "  'sensitivity': 0.666016113006897,\n",
       "  'specificity': 0.6682654098572044},\n",
       " ['odynophagia', 'smell', 'gi_symptoms', 'ausc_resp'])"
      ]
     },
     "execution_count": 39,
     "metadata": {
      "tags": []
     },
     "output_type": "execute_result"
    }
   ],
   "source": [
    "FS617ValMetrics, FS617ImportantFeatures"
   ]
  },
  {
   "cell_type": "markdown",
   "metadata": {
    "id": "iAZCLjJDwJ0Q"
   },
   "source": [
    "# 6. Feature importances\n",
    "\n",
    "We use the SHAP framework to search for global feature importances for the test predictions for each model."
   ]
  },
  {
   "cell_type": "markdown",
   "metadata": {
    "id": "RHlKbfXAgsGn"
   },
   "source": [
    "### 6.1 Whole dataset\n",
    "\n",
    "The whole dataset has been found to be best modeled by an XGBoost classifier. Thus, we can use the Tree Explainer method from SHAP to obtain exact values in a fast way."
   ]
  },
  {
   "cell_type": "code",
   "execution_count": null,
   "metadata": {
    "id": "R6DMgbcOTEEB"
   },
   "outputs": [],
   "source": [
    "def change_fnames(names):\n",
    "  newnames = []\n",
    "  for name in names:\n",
    "    if name == 'fever_1':\n",
    "      newname = 'fever 37.5-38 ºC'\n",
    "    elif name == 'fever_2':\n",
    "      newname = 'fever 38-39 ºC'\n",
    "    elif name == 'fever_3':\n",
    "      newname = 'fever > 39 ºC'\n",
    "    elif name == 'total_days_fever_1':\n",
    "      newname = 'fever for 1-2 days'\n",
    "    elif name == 'total_days_fever_2':\n",
    "      newname = 'fever for 3-7 days'\n",
    "    elif name == 'total_days_fever_3':\n",
    "      newname = 'fever for > 7 days'\n",
    "    elif name == 'tos_1':\n",
    "      newname = 'coughs'\n",
    "    elif name == 'dysphonia_1':\n",
    "      newname = 'dysphonia'\n",
    "    elif name == 'resp_1':\n",
    "      newname = 'dyspnea'\n",
    "    elif name == 'tachypnea_1':\n",
    "      newname = 'tachypnea'\n",
    "    elif name == 'ausc_resp_1':\n",
    "      newname = 'normal auscultation'\n",
    "    elif name == 'ausc_resp_2':\n",
    "      newname = 'pathological auscultation'\n",
    "    elif name == 'ausc_type_1':\n",
    "      newname = 'wheezing'\n",
    "    elif name == 'ausc_type_2':\n",
    "      newname = 'crackles'\n",
    "    elif name == 'ausc_type_3':\n",
    "      newname = 'wheezing & crackles'\n",
    "    elif name == 'odynophagia_1':\n",
    "      newname = 'odynophagia'\n",
    "    elif name == 'nasal_congestion_1':\n",
    "      newname = 'nasal congestion'\n",
    "    elif name == 'fatiga_1':\n",
    "      newname = 'fatigued'\n",
    "    elif name == 'headache_1':\n",
    "      newname = 'headache'\n",
    "    elif name == 'conjuntivitis_1':\n",
    "      newname = 'conjuntivitis'\n",
    "    elif name == 'gi_symptoms_1':\n",
    "      newname = 'gastrointestinal symptoms'\n",
    "    elif name == 'abdominal_pain_1':\n",
    "      newname = 'abdominal pain'\n",
    "    elif name == 'vomiting_1':\n",
    "      newname = 'vomits'\n",
    "    elif name == 'dyarrea_1':\n",
    "      newname = 'dyarrhea'\n",
    "    elif name == 'dermatologic_1':\n",
    "      newname = 'skin signs'\n",
    "    elif name == 'rash_1':\n",
    "      newname = 'skin rash'\n",
    "    elif name == 'adenopathies_1':\n",
    "      newname = 'lymphadenopathies (>1cm)'\n",
    "    elif name == 'hemorrhagies_1':\n",
    "      newname = 'hemorrhagies'\n",
    "    elif name == 'irritability_1':\n",
    "      newname = 'irritability (only < 2y-old)'\n",
    "    elif name == 'neuro_1':\n",
    "      newname = 'Neurologic manifestations'\n",
    "    elif name == 'shock_1':\n",
    "      newname = 'shock signs'\n",
    "    elif name == 'taste_smell_1':\n",
    "      newname = 'alteration in taste'\n",
    "    elif name == 'smell_1':\n",
    "      newname = 'alteration in smell'\n",
    "    else:\n",
    "      # raise ValueError(f'Name not recognized: {name}')\n",
    "      newname = name\n",
    "    newnames.append(newname)\n",
    "  return newnames"
   ]
  },
  {
   "cell_type": "code",
   "execution_count": null,
   "metadata": {
    "id": "x1A5LVIDDHzL"
   },
   "outputs": [],
   "source": [
    "expWhole = shap.Explainer(model=trainedModelFineGridWhole, \n",
    "                          algorithm='tree',\n",
    "                          feature_names=change_fnames(fNamesFineGridWhole))\n",
    "shapValsTestWhole = expWhole(testDataFineGridWhole[0])"
   ]
  },
  {
   "cell_type": "code",
   "execution_count": null,
   "metadata": {
    "id": "JQTR4lTu62E9"
   },
   "outputs": [],
   "source": [
    "shap.plots.bar(shapValsTestWhole.abs.mean(0), max_display=11, show=False)\n",
    "plot = plt.gcf()\n",
    "plot.savefig('avg_whole.jpg', dpi=2000, bbox_inches='tight')\n",
    "# shap.plots.bar(shapValsTestWhole, max_display=11)"
   ]
  },
  {
   "cell_type": "markdown",
   "metadata": {
    "id": "FszrxfWMlth0"
   },
   "source": [
    "By max. impact on the predictions"
   ]
  },
  {
   "cell_type": "code",
   "execution_count": null,
   "metadata": {
    "colab": {
     "base_uri": "https://localhost:8080/",
     "height": 445
    },
    "id": "72ZWHIrolsIM",
    "outputId": "f08eef76-6651-4346-bf53-30c4e7ff208f"
   },
   "outputs": [
    {
     "data": {
      "image/png": "[encoded data removed]",
      "text/plain": [
       "<Figure size 576x504 with 1 Axes>"
      ]
     },
     "metadata": {},
     "output_type": "display_data"
    }
   ],
   "source": [
    "shap.plots.bar(shapValsTestWhole.abs.max(0), max_display=11, show=False)\n",
    "plot = plt.gcf()\n",
    "plot.savefig('max_whole.jpg', dpi=2000, bbox_inches='tight')"
   ]
  },
  {
   "cell_type": "markdown",
   "metadata": {
    "id": "P44JYxhbETKI"
   },
   "source": [
    "Beeswarm plot, which allows us to see the degree of separation the model achieves for the features with top mean SHAP values."
   ]
  },
  {
   "cell_type": "code",
   "execution_count": null,
   "metadata": {
    "colab": {
     "base_uri": "https://localhost:8080/",
     "height": 498
    },
    "id": "n1ZjrWLWl6yG",
    "outputId": "2e9d00d5-4213-43ab-d117-d71bc7789ed1"
   },
   "outputs": [
    {
     "data": {
      "image/png": "[encoded data removed]",
      "text/plain": [
       "<Figure size 576x568.8 with 2 Axes>"
      ]
     },
     "metadata": {
      "needs_background": "light"
     },
     "output_type": "display_data"
    }
   ],
   "source": [
    "plot = shap.plots.beeswarm(shapValsTestWhole, max_display=16, show=False)\n",
    "plot = plt.gcf()\n",
    "plot.savefig('bees_whole.jpg', dpi=2000, bbox_inches='tight')"
   ]
  },
  {
   "cell_type": "markdown",
   "metadata": {
    "id": "xXWOw1E4EcbS"
   },
   "source": [
    "### 6.2 Ages 0 to 5\n",
    "The aged 0 to 5 dataset has been found to be best modeled by a Random Forest classifier. Again, we can use the Tree Explainer method from SHAP to obtain exact values in a fast way."
   ]
  },
  {
   "cell_type": "code",
   "execution_count": null,
   "metadata": {
    "id": "vMpVrzg2EwM-"
   },
   "outputs": [],
   "source": [
    "exp0To5 = shap.Explainer(model=trainedModelFineGrid0To5, \n",
    "                         algorithm='tree',\n",
    "                         feature_names=change_fnames(fNamesFineGrid0To5))\n",
    "shapValsTest0To5 = exp0To5(testDataFineGrid0To5[0])"
   ]
  },
  {
   "cell_type": "code",
   "execution_count": null,
   "metadata": {
    "colab": {
     "base_uri": "https://localhost:8080/",
     "height": 390
    },
    "id": "7JKtVidJJAoO",
    "outputId": "fd602394-c559-4f33-9f54-c273fbda98b7"
   },
   "outputs": [
    {
     "data": {
      "image/png": "[encoded data removed]",
      "text/plain": [
       "<Figure size 576x424.8 with 2 Axes>"
      ]
     },
     "metadata": {
      "needs_background": "light"
     },
     "output_type": "display_data"
    }
   ],
   "source": [
    "shap.plots.beeswarm(shapValsTest0To5[:, :, 1], max_display=11, show=False)\n",
    "plot = plt.gcf()\n",
    "plot.savefig('bees_lt6.jpg', dpi=2000, bbox_inches='tight')"
   ]
  },
  {
   "cell_type": "markdown",
   "metadata": {
    "id": "aBAaWBOeJKwE"
   },
   "source": [
    "### 6.3 Ages > 6\n",
    "\n",
    "The aged > 6 dataset has been found to be best modeled by a Random Forest. "
   ]
  },
  {
   "cell_type": "code",
   "execution_count": null,
   "metadata": {
    "id": "W0pZdEB7KzeM"
   },
   "outputs": [],
   "source": [
    "exp6 = shap.Explainer(model=trainedModelFineGridGT6,\n",
    "                      algorithm='tree',\n",
    "                      feature_names=change_fnames(fNamesFineGridGT6))\n",
    "shapValsTestGT6 = exp6(testDataFineGridGT6[0])"
   ]
  },
  {
   "cell_type": "code",
   "execution_count": null,
   "metadata": {
    "colab": {
     "base_uri": "https://localhost:8080/",
     "height": 390
    },
    "id": "tEQSnyq2Kuly",
    "outputId": "3dc6fb36-b5a9-4218-da9e-711dfd2fed6e"
   },
   "outputs": [
    {
     "data": {
      "image/png": "[encoded data removed]",
      "text/plain": [
       "<Figure size 576x424.8 with 2 Axes>"
      ]
     },
     "metadata": {
      "needs_background": "light"
     },
     "output_type": "display_data"
    }
   ],
   "source": [
    "shap.plots.beeswarm(shapValsTestGT6[:, :, 1], max_display=11, show=False)\n",
    "plot = plt.gcf()\n",
    "plot.savefig('bees_gt6.jpg', dpi=2000, bbox_inches='tight')"
   ]
  },
  {
   "cell_type": "markdown",
   "metadata": {
    "id": "Nebcl1tETQnT"
   },
   "source": [
    "### 6.4 Ages > 6 (after feature selection)"
   ]
  },
  {
   "cell_type": "code",
   "execution_count": null,
   "metadata": {
    "colab": {
     "base_uri": "https://localhost:8080/",
     "height": 49,
     "referenced_widgets": [
      "5192b962f50d41d1858ad6345a55ce3b",
      "08569bb037f8425cbb9fcfba6072f9a4",
      "e3a318482aa04f6a9b079855cbbe0f3b",
      "1cfec574925b478b9c84bb76cb09c9c4",
      "5299d850910d4ab38d933b2f7706f3c7",
      "ecddd9f2c741460db31c6e35d3eda69b",
      "0450bb8b8a284ae284749c826b657b9e",
      "bbce32b541ee49c7998119ec150146a6",
      "d49a19bac71d44b7af4ab16a31892c98",
      "c4c319b7939641da93c43dd1d6fd9191",
      "83c47d5fab21406788d059c99c0cfd5e"
     ]
    },
    "id": "8lWaSpeZTO9h",
    "outputId": "45adcf51-aefa-452d-a397-b22a620853b7"
   },
   "outputs": [
    {
     "data": {
      "application/vnd.jupyter.widget-view+json": {
       "model_id": "5192b962f50d41d1858ad6345a55ce3b",
       "version_major": 2,
       "version_minor": 0
      },
      "text/plain": [
       "  0%|          | 0/632 [00:00<?, ?it/s]"
      ]
     },
     "metadata": {},
     "output_type": "display_data"
    }
   ],
   "source": [
    "exp6FS = shap.KernelExplainer(model=FS617BestTrainedModel.predict_proba,\n",
    "                            feature_names=change_fnames(FS617FNames),\n",
    "                            data=np.zeros(len(FS617FNames)).reshape(1, -1))\n",
    "shapValsTestGT6FS = exp6FS.shap_values(FS617TestData[0])"
   ]
  },
  {
   "cell_type": "markdown",
   "metadata": {
    "id": "zQ8IEeegwFuh"
   },
   "source": [
    "### Complementary"
   ]
  },
  {
   "cell_type": "code",
   "execution_count": null,
   "metadata": {
    "id": "IY0ihUDNwHdn"
   },
   "outputs": [],
   "source": [
    "import warnings\n",
    "\n",
    "def topk_shap_features(k, shapVals, dataFeatures):\n",
    "  \"\"\" Computes top k negative and positive features by mean shap value.\n",
    "\n",
    "  :param shapVals: (ndarray) shap values\n",
    "  :param dataFeatures: (ndarray) feature names of the data.\n",
    "  :prints: \n",
    "    - top2*k mean abs value features\n",
    "    - topk positive features\n",
    "    - topk negative features\n",
    "    - top2*k mean abs value shaps\n",
    "    - topk mean positive shaps\n",
    "    - topk mean negative shaps \"\"\"\n",
    "\n",
    "  meanShaps = np.mean(shapVals, axis=0)\n",
    "  posShaps = meanShaps[meanShaps > 0]\n",
    "  posFeatures = dataFeatures[meanShaps > 0]\n",
    "  negShaps = meanShaps[meanShaps < 0]\n",
    "  negFeatures = dataFeatures[meanShaps < 0]\n",
    "\n",
    "  posSortedIndexes = np.argsort(-1*posShaps)\n",
    "  negSortedIndexes = np.argsort(negShaps)\n",
    "  allSortedIndexes = np.argsort(-1*np.abs(meanShaps))\n",
    "\n",
    "  posShaps = posShaps[posSortedIndexes]\n",
    "  posFeatures = posFeatures[posSortedIndexes]\n",
    "  negShaps = negShaps[negSortedIndexes]\n",
    "  negFeatures = negFeatures[negSortedIndexes]\n",
    "\n",
    "  meanShaps = meanShaps[allSortedIndexes]\n",
    "  sortedDataFeatures = dataFeatures[allSortedIndexes]\n",
    "\n",
    "  assert k <= len(dataFeatures), 'k must be smaller than the number of features.' \n",
    "\n",
    "  if len(posShaps) < k:\n",
    "    warnings.warn(f'Not enough positive features (only found {len(posShaps)})')\n",
    "  if len(negShaps) < k:\n",
    "    warnings.warn(f'Not enough negative features (only found {len(negShaps)})')\n",
    "  if len(meanShaps) < 2*k:\n",
    "    warnings.warn(f'Not enough total features (only {len(meanShaps)})')\n",
    "\n",
    "  print(f'TOP {2*k} FEATURES THAT AFFECT THE PROBABILITY:')\n",
    "  for val, f in zip(meanShaps[:2*k], sortedDataFeatures[:2*k]):\n",
    "    print(f'{f}: {val}')\n",
    "\n",
    "  print(f'\\nTOP {k} FEATURES THAT POSITIVELY AFFECT THE PROBABILITY:')\n",
    "  for val, f in zip(posShaps[:k], posFeatures[:k]):\n",
    "    print(f'{f}: {val}')\n",
    "\n",
    "  print(f'\\nTOP {k} FEATURES THAT NEGATIVELY AFFECT THE PROBABILITY:')\n",
    "  for val, f in zip(negShaps[:k], negFeatures[:k]):\n",
    "    print(f'{f}: {val}')"
   ]
  }
 ],
 "metadata": {
  "colab": {
   "collapsed_sections": [],
   "name": "Model analysis anonimized.ipynb",
   "provenance": []
  },
  "kernelspec": {
   "display_name": "Python 3 (ipykernel)",
   "language": "python",
   "name": "python3"
  },
  "language_info": {
   "codemirror_mode": {
    "name": "ipython",
    "version": 3
   },
   "file_extension": ".py",
   "mimetype": "text/x-python",
   "name": "python",
   "nbconvert_exporter": "python",
   "pygments_lexer": "ipython3",
   "version": "3.8.6"
  },
  "widgets": {
   "application/vnd.jupyter.widget-state+json": {
    "0450bb8b8a284ae284749c826b657b9e": {
     "model_module": "@jupyter-widgets/base",
     "model_module_version": "1.2.0",
     "model_name": "LayoutModel",
     "state": {
      "_model_module": "@jupyter-widgets/base",
      "_model_module_version": "1.2.0",
      "_model_name": "LayoutModel",
      "_view_count": null,
      "_view_module": "@jupyter-widgets/base",
      "_view_module_version": "1.2.0",
      "_view_name": "LayoutView",
      "align_content": null,
      "align_items": null,
      "align_self": null,
      "border": null,
      "bottom": null,
      "display": null,
      "flex": null,
      "flex_flow": null,
      "grid_area": null,
      "grid_auto_columns": null,
      "grid_auto_flow": null,
      "grid_auto_rows": null,
      "grid_column": null,
      "grid_gap": null,
      "grid_row": null,
      "grid_template_areas": null,
      "grid_template_columns": null,
      "grid_template_rows": null,
      "height": null,
      "justify_content": null,
      "justify_items": null,
      "left": null,
      "margin": null,
      "max_height": null,
      "max_width": null,
      "min_height": null,
      "min_width": null,
      "object_fit": null,
      "object_position": null,
      "order": null,
      "overflow": null,
      "overflow_x": null,
      "overflow_y": null,
      "padding": null,
      "right": null,
      "top": null,
      "visibility": null,
      "width": null
     }
    },
    "08569bb037f8425cbb9fcfba6072f9a4": {
     "model_module": "@jupyter-widgets/base",
     "model_module_version": "1.2.0",
     "model_name": "LayoutModel",
     "state": {
      "_model_module": "@jupyter-widgets/base",
      "_model_module_version": "1.2.0",
      "_model_name": "LayoutModel",
      "_view_count": null,
      "_view_module": "@jupyter-widgets/base",
      "_view_module_version": "1.2.0",
      "_view_name": "LayoutView",
      "align_content": null,
      "align_items": null,
      "align_self": null,
      "border": null,
      "bottom": null,
      "display": null,
      "flex": null,
      "flex_flow": null,
      "grid_area": null,
      "grid_auto_columns": null,
      "grid_auto_flow": null,
      "grid_auto_rows": null,
      "grid_column": null,
      "grid_gap": null,
      "grid_row": null,
      "grid_template_areas": null,
      "grid_template_columns": null,
      "grid_template_rows": null,
      "height": null,
      "justify_content": null,
      "justify_items": null,
      "left": null,
      "margin": null,
      "max_height": null,
      "max_width": null,
      "min_height": null,
      "min_width": null,
      "object_fit": null,
      "object_position": null,
      "order": null,
      "overflow": null,
      "overflow_x": null,
      "overflow_y": null,
      "padding": null,
      "right": null,
      "top": null,
      "visibility": null,
      "width": null
     }
    },
    "1cfec574925b478b9c84bb76cb09c9c4": {
     "model_module": "@jupyter-widgets/controls",
     "model_module_version": "1.5.0",
     "model_name": "FloatProgressModel",
     "state": {
      "_dom_classes": [],
      "_model_module": "@jupyter-widgets/controls",
      "_model_module_version": "1.5.0",
      "_model_name": "FloatProgressModel",
      "_view_count": null,
      "_view_module": "@jupyter-widgets/controls",
      "_view_module_version": "1.5.0",
      "_view_name": "ProgressView",
      "bar_style": "success",
      "description": "",
      "description_tooltip": null,
      "layout": "IPY_MODEL_d49a19bac71d44b7af4ab16a31892c98",
      "max": 632,
      "min": 0,
      "orientation": "horizontal",
      "style": "IPY_MODEL_bbce32b541ee49c7998119ec150146a6",
      "value": 632
     }
    },
    "5192b962f50d41d1858ad6345a55ce3b": {
     "model_module": "@jupyter-widgets/controls",
     "model_module_version": "1.5.0",
     "model_name": "HBoxModel",
     "state": {
      "_dom_classes": [],
      "_model_module": "@jupyter-widgets/controls",
      "_model_module_version": "1.5.0",
      "_model_name": "HBoxModel",
      "_view_count": null,
      "_view_module": "@jupyter-widgets/controls",
      "_view_module_version": "1.5.0",
      "_view_name": "HBoxView",
      "box_style": "",
      "children": [
       "IPY_MODEL_e3a318482aa04f6a9b079855cbbe0f3b",
       "IPY_MODEL_1cfec574925b478b9c84bb76cb09c9c4",
       "IPY_MODEL_5299d850910d4ab38d933b2f7706f3c7"
      ],
      "layout": "IPY_MODEL_08569bb037f8425cbb9fcfba6072f9a4"
     }
    },
    "5299d850910d4ab38d933b2f7706f3c7": {
     "model_module": "@jupyter-widgets/controls",
     "model_module_version": "1.5.0",
     "model_name": "HTMLModel",
     "state": {
      "_dom_classes": [],
      "_model_module": "@jupyter-widgets/controls",
      "_model_module_version": "1.5.0",
      "_model_name": "HTMLModel",
      "_view_count": null,
      "_view_module": "@jupyter-widgets/controls",
      "_view_module_version": "1.5.0",
      "_view_name": "HTMLView",
      "description": "",
      "description_tooltip": null,
      "layout": "IPY_MODEL_83c47d5fab21406788d059c99c0cfd5e",
      "placeholder": "​",
      "style": "IPY_MODEL_c4c319b7939641da93c43dd1d6fd9191",
      "value": " 632/632 [00:02&lt;00:00, 254.60it/s]"
     }
    },
    "83c47d5fab21406788d059c99c0cfd5e": {
     "model_module": "@jupyter-widgets/base",
     "model_module_version": "1.2.0",
     "model_name": "LayoutModel",
     "state": {
      "_model_module": "@jupyter-widgets/base",
      "_model_module_version": "1.2.0",
      "_model_name": "LayoutModel",
      "_view_count": null,
      "_view_module": "@jupyter-widgets/base",
      "_view_module_version": "1.2.0",
      "_view_name": "LayoutView",
      "align_content": null,
      "align_items": null,
      "align_self": null,
      "border": null,
      "bottom": null,
      "display": null,
      "flex": null,
      "flex_flow": null,
      "grid_area": null,
      "grid_auto_columns": null,
      "grid_auto_flow": null,
      "grid_auto_rows": null,
      "grid_column": null,
      "grid_gap": null,
      "grid_row": null,
      "grid_template_areas": null,
      "grid_template_columns": null,
      "grid_template_rows": null,
      "height": null,
      "justify_content": null,
      "justify_items": null,
      "left": null,
      "margin": null,
      "max_height": null,
      "max_width": null,
      "min_height": null,
      "min_width": null,
      "object_fit": null,
      "object_position": null,
      "order": null,
      "overflow": null,
      "overflow_x": null,
      "overflow_y": null,
      "padding": null,
      "right": null,
      "top": null,
      "visibility": null,
      "width": null
     }
    },
    "bbce32b541ee49c7998119ec150146a6": {
     "model_module": "@jupyter-widgets/controls",
     "model_module_version": "1.5.0",
     "model_name": "ProgressStyleModel",
     "state": {
      "_model_module": "@jupyter-widgets/controls",
      "_model_module_version": "1.5.0",
      "_model_name": "ProgressStyleModel",
      "_view_count": null,
      "_view_module": "@jupyter-widgets/base",
      "_view_module_version": "1.2.0",
      "_view_name": "StyleView",
      "bar_color": null,
      "description_width": ""
     }
    },
    "c4c319b7939641da93c43dd1d6fd9191": {
     "model_module": "@jupyter-widgets/controls",
     "model_module_version": "1.5.0",
     "model_name": "DescriptionStyleModel",
     "state": {
      "_model_module": "@jupyter-widgets/controls",
      "_model_module_version": "1.5.0",
      "_model_name": "DescriptionStyleModel",
      "_view_count": null,
      "_view_module": "@jupyter-widgets/base",
      "_view_module_version": "1.2.0",
      "_view_name": "StyleView",
      "description_width": ""
     }
    },
    "d49a19bac71d44b7af4ab16a31892c98": {
     "model_module": "@jupyter-widgets/base",
     "model_module_version": "1.2.0",
     "model_name": "LayoutModel",
     "state": {
      "_model_module": "@jupyter-widgets/base",
      "_model_module_version": "1.2.0",
      "_model_name": "LayoutModel",
      "_view_count": null,
      "_view_module": "@jupyter-widgets/base",
      "_view_module_version": "1.2.0",
      "_view_name": "LayoutView",
      "align_content": null,
      "align_items": null,
      "align_self": null,
      "border": null,
      "bottom": null,
      "display": null,
      "flex": null,
      "flex_flow": null,
      "grid_area": null,
      "grid_auto_columns": null,
      "grid_auto_flow": null,
      "grid_auto_rows": null,
      "grid_column": null,
      "grid_gap": null,
      "grid_row": null,
      "grid_template_areas": null,
      "grid_template_columns": null,
      "grid_template_rows": null,
      "height": null,
      "justify_content": null,
      "justify_items": null,
      "left": null,
      "margin": null,
      "max_height": null,
      "max_width": null,
      "min_height": null,
      "min_width": null,
      "object_fit": null,
      "object_position": null,
      "order": null,
      "overflow": null,
      "overflow_x": null,
      "overflow_y": null,
      "padding": null,
      "right": null,
      "top": null,
      "visibility": null,
      "width": null
     }
    },
    "e3a318482aa04f6a9b079855cbbe0f3b": {
     "model_module": "@jupyter-widgets/controls",
     "model_module_version": "1.5.0",
     "model_name": "HTMLModel",
     "state": {
      "_dom_classes": [],
      "_model_module": "@jupyter-widgets/controls",
      "_model_module_version": "1.5.0",
      "_model_name": "HTMLModel",
      "_view_count": null,
      "_view_module": "@jupyter-widgets/controls",
      "_view_module_version": "1.5.0",
      "_view_name": "HTMLView",
      "description": "",
      "description_tooltip": null,
      "layout": "IPY_MODEL_0450bb8b8a284ae284749c826b657b9e",
      "placeholder": "​",
      "style": "IPY_MODEL_ecddd9f2c741460db31c6e35d3eda69b",
      "value": "100%"
     }
    },
    "ecddd9f2c741460db31c6e35d3eda69b": {
     "model_module": "@jupyter-widgets/controls",
     "model_module_version": "1.5.0",
     "model_name": "DescriptionStyleModel",
     "state": {
      "_model_module": "@jupyter-widgets/controls",
      "_model_module_version": "1.5.0",
      "_model_name": "DescriptionStyleModel",
      "_view_count": null,
      "_view_module": "@jupyter-widgets/base",
      "_view_module_version": "1.2.0",
      "_view_name": "StyleView",
      "description_width": ""
     }
    }
   }
  }
 },
 "nbformat": 4,
 "nbformat_minor": 4
}