{
 "cells": [
  {
   "cell_type": "markdown",
   "metadata": {
    "id": "wdcTZ9inx6Bo"
   },
   "source": [
    "### Preprocessing pipeline"
   ]
  },
  {
   "cell_type": "code",
   "execution_count": null,
   "metadata": {
    "id": "xdj0fTOiZo8x"
   },
   "outputs": [],
   "source": [
    "import pandas as pd\n",
    "import numpy as np\n",
    "import math\n",
    "from datetime import datetime\n",
    "from sklearn.impute import KNNImputer\n",
    "import os\n",
    "from google.colab import drive"
   ]
  },
  {
   "cell_type": "code",
   "execution_count": null,
   "metadata": {
    "id": "iytJ-nZ8VxYM"
   },
   "outputs": [],
   "source": [
    "if not os.path.exists(\"/content/drive\"):\n",
    "    drive.mount('/content/drive')"
   ]
  },
  {
   "cell_type": "code",
   "execution_count": null,
   "metadata": {
    "id": "1FY6wb73OrCn"
   },
   "outputs": [],
   "source": [
    "# name of the columns to be used\n",
    "selected_columns = [\"date_of_birth\",\"simptomatology_date\",\"fever\", \"highest_fever\", \"total_days_fever\",\"date_fever\",\t\"end_fever\", \"tos\", \"cough_first\", \"crup\", \"crup_first\", \"dysphonia\", \"disfonia_first\", \n",
    "               \"resp\", \"dyspnea_first\", \"tachypnea\", \"tachypnea_first\",\"ausc_resp\",\"auscult_first\", \"wheezing\", \"crackles\", \"odynophagia\",\n",
    "               \"odynophagia_first\", \"nasal_congestion\", \"nasal_first\", \"fatiga\", \"fatigue_first\", \"headache\", \"headache_first\", \"conjuntivitis\",\n",
    "               \"conj_first\", \"ocular_pain\", \"ocular_first\", \"gi_symptoms\", \"gi_first\", \"abdominal_pain\", \"vomiting\", \"dyarrea\", \"dermatologic\", \n",
    "               \"skin_first\", \"rash\", \"inflam_periferic\", \"inflam_oral\", \"adenopathies\", \"lymph_first\", \"hepato\", \"hepato_first\", \"splenomegaly\",\n",
    "               \"spleno_first\",\"hemorrhagies\", \"hemorr_first\", \"irritability\", \"irritability_first\", \"neuro\", \"neuro_first\", \"confusion\", \"seizures\",\n",
    "               \"nuchal_stiffness\", \"hypotonia\", \"peripheral_paralysis\", \"shock\", \"shock_first\", \"taste_smell\", \"taste_first\", \"smell\",\"smell_first\",\n",
    "               \"final_diagnosis_code\"]\n",
    "\n",
    "# name of attributes that indicate the presence of one symptom and are complementary to those on 'firsts'\n",
    "normals = [\"tos\", \"crup\", \"dysphonia\",\n",
    "               \"resp\", \"tachypnea\", \"odynophagia\",\n",
    "               \"nasal_congestion\", \"fatiga\", \"headache\",  \"conjuntivitis\",\n",
    "              \"ocular_pain\", \"adenopathies\", \"hepato\", \"splenomegaly\",\n",
    "              \"hemorrhagies\",  \"irritability\", \"shock\", \"taste_smell\", \"smell\"]\n",
    "\n",
    "# name of attributes that indicate if one symptom appeared during the first 48h\n",
    "firsts = [\"cough_first\", \"crup_first\",  \"disfonia_first\", \"dyspnea_first\", \"tachypnea_first\",\n",
    "               \"odynophagia_first\", \"nasal_first\", \"fatigue_first\", \"headache_first\", \"conj_first\", \"ocular_first\",\n",
    "               \"lymph_first\", \"hepato_first\", \"spleno_first\",\"hemorr_first\",\"irritability_first\", \"shock_first\", \"taste_first\",\"smell_first\"]\n",
    "\n",
    "# variables used for the imputation of the target\n",
    "targets = ['antigenic_result', 'pcr_result']\n",
    "\n",
    "# columns remove for the different datasets\n",
    "remove_all = [\"crup\",'ocular_pain','hepato','splenomegaly']\n",
    "# remove_age0=['odynophagia','headache','taste_smell','smell']\n",
    "# remove_age1=['irritability','taste_smell','smell']\n",
    "# el remove para la fusion de los dos primeros grupos es la interseccion\n",
    "# de las columnas que borrabamos antes por separado\n",
    "remove_age0 = ['taste_smell','smell']\n",
    "remove_age1 = ['irritability']"
   ]
  },
  {
   "cell_type": "code",
   "execution_count": null,
   "metadata": {
    "id": "l7SwN-MUOU5o"
   },
   "outputs": [],
   "source": [
    "def read_data(data_path):\n",
    "  \"\"\"\n",
    "  Compute age of the patient at simptomatology date.\n",
    "\n",
    "  data_path: string\n",
    "  \"\"\"\n",
    "  return pd.read_csv(data_path)"
   ]
  },
  {
   "cell_type": "code",
   "execution_count": null,
   "metadata": {
    "id": "qShqPvSbPlnf"
   },
   "outputs": [],
   "source": [
    "def compute_age(data):\n",
    "  \"\"\"\n",
    "  Compute age of the patient at simptomatology date.\n",
    "\n",
    "  data: pandas dataframe with column including \"simptomatology_date\" and \"date_of_birth\"\n",
    "  \"\"\"\n",
    "  data[\"age\"]=((pd.to_datetime(data[\"simptomatology_date\"])-pd.to_datetime(data[\"date_of_birth\"])).dt.days/365).apply(np.floor)\n",
    "  data.drop([\"date_of_birth\",\"simptomatology_date\"],axis=1,inplace=True)\n",
    "  return data"
   ]
  },
  {
   "cell_type": "code",
   "execution_count": null,
   "metadata": {
    "id": "bXr5AUzFQYcD"
   },
   "outputs": [],
   "source": [
    "def combine_normal_first(normal, first, x):\n",
    "  \"\"\"\n",
    "  Combine \"normal\" column with its corresponding column of the same symptom \n",
    "  indicating if it appear during the first 48h.\n",
    "\n",
    "  normal: string name of the symptom column\n",
    "  first: string name of the column first 48h\n",
    "  x: row\n",
    "  \"\"\"\n",
    "  if np.isnan(x[normal]) or x[normal]==3 :\n",
    "    return -1 # unknown\n",
    "  elif x[first] is not None and x[first]==1:\n",
    "    return 1 # first 48h\n",
    "  elif x[normal]==1 and x[first]==0:\n",
    "    return 2 # after 48h\n",
    "  else: \n",
    "    return 0 # no symptom"
   ]
  },
  {
   "cell_type": "code",
   "execution_count": null,
   "metadata": {
    "id": "I2vFZ6cVRdQl"
   },
   "outputs": [],
   "source": [
    "def group_days_fiver(days_fever, x):\n",
    "  \"\"\"\n",
    "  Categorize fever variable in 3 different groups.\n",
    "\n",
    "  days_fever: string name of the column\n",
    "  x: row\n",
    "  \"\"\"\n",
    "  if x[days_fever] == 1 or x[days_fever] == 2:\n",
    "    return 1\n",
    "  elif x[days_fever] >= 7 :\n",
    "    return 3\n",
    "  elif x[days_fever] >3 and x[days_fever] < 7:\n",
    "    return 2\n",
    "  else:\n",
    "    return 0\n",
    "\n",
    "def compute_fever(data):\n",
    "  \"\"\"\n",
    "  Compute the total number of days with fever and categorize it.\n",
    "\n",
    "  data: pandas dataframe\n",
    "  \"\"\"\n",
    "  data[\"date_fever\"] = pd.to_datetime(data[\"date_fever\"], errors='coerce')\n",
    "  data[\"end_fever\"] = pd.to_datetime(data[\"end_fever\"], errors='coerce')\n",
    "  #  compute number of days\n",
    "  data[\"total_days_fever\"]=(data[\"end_fever\"]-data[\"date_fever\"]).dt.total_seconds()/(3600*24)\n",
    "  data.drop([\"date_fever\",\"end_fever\"],axis=1,inplace=True)\n",
    "\n",
    "  # infer category for special cases\n",
    "  data.loc[data['total_days_fever'] < 0, 'total_days_fever'] = np.nan\n",
    "  data.loc[data['fever'] == 0, 'total_days_fever'] = 0 # no fever\n",
    "  data.loc[data['fever'] == -1, 'total_days_fever'] = -1 # unknown fever\n",
    "\n",
    "  # infer the days with the median of the group\n",
    "  filled = data.groupby('fever').transform(lambda x: x.fillna(x.median()))\n",
    "  data['total_days_fever'] = filled['total_days_fever']\n",
    "\n",
    "  # Categorize into groups\n",
    "  data[\"total_days_fever\"]=data.apply(lambda x: group_days_fiver(\"total_days_fever\", x),axis=1)\n",
    "\n",
    "  return data"
   ]
  },
  {
   "cell_type": "code",
   "execution_count": null,
   "metadata": {
    "id": "ua_gO8L6SfVe"
   },
   "outputs": [],
   "source": [
    "  def formatting_fever(fever, highest_fever, x):\n",
    "    \"\"\"\n",
    "    Reformat values of the categories for the fever attribute\n",
    "\n",
    "    fever: string name of the fever column\n",
    "    highest_fever: string name of the highest fever column\n",
    "    x: row\n",
    "    \"\"\"\n",
    "    if np.isnan(x[fever]):\n",
    "      return -1 # unknown\n",
    "    elif x[fever]==2:\n",
    "      return 0 # no symptom\n",
    "    elif x[fever]==1 and not np.isnan(x[highest_fever]):\n",
    "      return x[highest_fever] # >39\n",
    "    else:\n",
    "      return 2 # >38 a <=39"
   ]
  },
  {
   "cell_type": "code",
   "execution_count": null,
   "metadata": {
    "id": "D_d5d7AjWeFC"
   },
   "outputs": [],
   "source": [
    "#0 no gi\n",
    "#1 primeras 48h\n",
    "#2 después 48h \n",
    "#-1 desconocido\n",
    "\n",
    "def create_gi(normal, first, x):\n",
    "  \"\"\"\n",
    "    Categorize gi attribute\n",
    "\n",
    "    normal: string name of the gi column\n",
    "    first: string name of the gi column indicating if it appear during the first 48h\n",
    "    x: row\n",
    "  \"\"\"\n",
    "  if np.isnan(x[normal]) :\n",
    "    return -1 # unknown\n",
    "  elif x[first]==1 and x[normal]==1:\n",
    "    return 1 # symptom during the first 48 h\n",
    "  elif x[normal]==1 and x[first]==0:\n",
    "    return 2  # symptom after the first 48 h\n",
    "  elif x[normal]==0: \n",
    "    return 0  # no symptom\n",
    "\n",
    "def compute_gi(data):\n",
    "  \"\"\"\n",
    "  Reformat values of the categories for the gi attribute\n",
    "\n",
    "  data: pandas dataframe\n",
    "  \"\"\"\n",
    "  # Encode the appearance of the symptom during the first 48h as other category\n",
    "  data[\"gi_symptoms\"]=data.apply(lambda x: create_gi(\"gi_symptoms\",\t\"gi_first\",x),axis=1)\n",
    "  data.drop(\"gi_first\",axis=1,inplace=True)\n",
    "  # Recode values of categories\n",
    "  cols=['abdominal_pain','vomiting','dyarrea']\n",
    "  data[cols]=data[cols].fillna(0)\n",
    "  data['gi_symptoms']=data['gi_symptoms'].fillna(2)\n",
    "  data[cols]=data[cols].replace(2, 0)\n",
    "  data[cols]=data[cols].replace(3, -1)\n",
    "  return data"
   ]
  },
  {
   "cell_type": "code",
   "execution_count": null,
   "metadata": {
    "id": "lLgIYUO3Xjvf"
   },
   "outputs": [],
   "source": [
    "def create_neuro(normal, first, x) :\n",
    "  if np.isnan(x[normal]) :\n",
    "    return -1 # unknown\n",
    "  elif x[normal] == 0:\n",
    "    return 0 # no symptom\n",
    "  elif x[normal]==1 and x[first]==1:\n",
    "    return 1 # symptom during the first 48 h\n",
    "  elif x[normal]==1 and x[first]==0: \n",
    "    return 2 # symptom after the first 48 h\n",
    "\n",
    "def compute_neuro(data):\n",
    "  data[\"neuro\"]=data.apply(lambda x: create_neuro(\"neuro\",\"neuro_first\",x),axis=1)\n",
    "  data.drop(\"neuro_first\",axis=1,inplace=True)\n",
    "  data.drop(\"confusion\",axis=1,inplace=True)\n",
    "  data.drop(\"seizures\",axis=1,inplace=True)\n",
    "  data.drop(\"nuchal_stiffness\",axis=1,inplace=True)\n",
    "  data.drop(\"hypotonia\",axis=1,inplace=True)\n",
    "  data.drop(\"peripheral_paralysis\",axis=1,inplace=True)\n",
    "  return data"
   ]
  },
  {
   "cell_type": "code",
   "execution_count": null,
   "metadata": {
    "id": "5gt59ah2YBsJ"
   },
   "outputs": [],
   "source": [
    "def compute_derma(data):\n",
    "  data[\"dermatologic\"]=data.apply(lambda x: create_gi(\"dermatologic\",\t\"skin_first\",x),axis=1)\n",
    "  data.drop(\"skin_first\",axis=1,inplace=True)\n",
    "  data.drop(\"inflam_periferic\",axis=1,inplace=True)\n",
    "  data.drop(\"inflam_oral\",axis=1,inplace=True)\n",
    "\n",
    "  cols=['rash']\n",
    "  data[cols]=data[cols].fillna(0)\n",
    "  data['dermatologic']=data['dermatologic'].fillna(2)\n",
    "  return data"
   ]
  },
  {
   "cell_type": "code",
   "execution_count": null,
   "metadata": {
    "id": "Gsx1x5bWYiot"
   },
   "outputs": [],
   "source": [
    "def create_ausc(normal, first, x) :\n",
    "  if np.isnan(x[normal]) :\n",
    "    return -1\n",
    "  elif x[first]==1 and x[normal]==2:\n",
    "    return 1\n",
    "  elif x[normal]==2 and x[first]==0:\n",
    "    return 2\n",
    "  elif x[normal]==1: \n",
    "    return 0\n",
    "\n",
    "def compute_ausc(data):\n",
    "  data[\"ausc_resp\"]=data.apply(lambda x: create_ausc(\"ausc_resp\",\"auscult_first\",x),axis=1)\n",
    "  data.drop(\"auscult_first\",axis=1,inplace=True)\n",
    "  data['ausc_resp']=data['ausc_resp'].fillna(2)\n",
    "  return data\n",
    "\n",
    "# 0 nada\n",
    "# 1 wheezing\n",
    "# 2 crackles\n",
    "# 3 both\n",
    "def create_ausc_type(ausc ,wheez, crackl, x) :\n",
    "  if x[ausc]==0 or x[ausc]==-1:\n",
    "    return 0\n",
    "  elif x[wheez]==1 and x[crackl]==1:\n",
    "    return 3\n",
    "  elif x[wheez]==1 and x[crackl]==2:\n",
    "    return 1\n",
    "  elif x[wheez]==2 and x[crackl]==1: \n",
    "    return 2\n",
    "\n",
    "def compute_ausc_type(data):\n",
    "  data[\"wheezing\"]=data.apply(lambda x: create_ausc_type(\"ausc_resp\",\"wheezing\",\"crackles\",x),axis=1)\n",
    "  data.drop(\"crackles\",axis=1,inplace=True)\n",
    "  data.rename(columns={'wheezing': 'ausc_type'}, inplace=True)\n",
    "  data['ausc_resp']=data['ausc_resp'].fillna(2)\n",
    "  #crackles es NA y wheezing positivo por lo tanto ponemos que es 1 (wheezing)\n",
    "  data['ausc_type']=data['ausc_type'].fillna(1)\n",
    "  return data"
   ]
  },
  {
   "cell_type": "code",
   "execution_count": null,
   "metadata": {
    "id": "qJhbBtorv9PP"
   },
   "outputs": [],
   "source": [
    "# We have inpute null code targets and supected (code=2) from pcr and atigenic results\n",
    "def impute_results(code, pcr, antigenic, x) :\n",
    "  if np.isnan(x[code]):\n",
    "    if not np.isnan(x[pcr]) or not np.isnan(x[antigenic]):\n",
    "      if x[pcr] == 1 or x[antigenic] == 1:\n",
    "        return 1\n",
    "      elif x[pcr] == 2 or x[antigenic] == 2:\n",
    "        return 3\n",
    "  elif x[code] == 2:\n",
    "    if not np.isnan(x[pcr]) or not np.isnan(x[antigenic]):\n",
    "      if x[pcr] == 1 or x[antigenic] == 1:\n",
    "        return 1\n",
    "      elif x[pcr] == 2 or x[antigenic] == 2:\n",
    "        return 3\n",
    "  else:\n",
    "    return x[code]\n",
    "\n",
    "def impute_target(data):\n",
    "  data[\"final_diagnosis_code\"]=data.apply(lambda x: impute_results(\"final_diagnosis_code\",\"pcr_result\", \"antigenic_result\",x),axis=1)\n",
    "  # delete 10 rows with target value null\n",
    "  data = data[data['final_diagnosis_code'].notna()]\n",
    "  data['final_diagnosis_code']=data['final_diagnosis_code'].replace(3, 0)\n",
    "  #data[data.final_diagnosis_code==3]['final_diagnosis_code']=0\n",
    "  data.drop('pcr_result',axis=1,inplace=True)\n",
    "  data.drop('antigenic_result',axis=1,inplace=True)\n",
    "  return data"
   ]
  },
  {
   "cell_type": "code",
   "execution_count": null,
   "metadata": {
    "id": "dD7m9ac6OUr6"
   },
   "outputs": [],
   "source": [
    "def pipeline(data_path, data_path_incidence, selected_columns, normals, firsts, targets, incidence):\n",
    "  data = read_data(data_path)\n",
    "  # select relevant columns\n",
    "  symptoms_data = data[selected_columns].copy()\n",
    "  # create age column\n",
    "  symptoms_data = compute_age(symptoms_data)\n",
    "\n",
    "  if incidence:\n",
    "    data_inc = read_data(data_path_incidence)\n",
    "    symptoms_data[\"incidence\"]=data_inc[\"incidencia\"]\n",
    "    symptoms_data[\"incidence\"]=symptoms_data[\"incidence\"].fillna(-1)\n",
    "\n",
    "  # combine normals with firsts\n",
    "  for i in range(len(normals)):\n",
    "    symptoms_data[normals[i]]=symptoms_data.apply(lambda x: combine_normal_first(normals[i],firsts[i],x),axis=1)\n",
    "    symptoms_data.drop(firsts[i],axis=1,inplace=True)\n",
    "    symptoms_data[normals[i]]=symptoms_data[normals[i]].fillna(2)\n",
    "\n",
    "  # Reformat fever column\n",
    "  symptoms_data['fever']=symptoms_data.apply(lambda x: formatting_fever('fever','highest_fever',x),axis=1)\n",
    "  symptoms_data.drop('highest_fever',axis=1,inplace=True)\n",
    "\n",
    "  # Create new columns for variables\n",
    "  symptoms_data = compute_fever(symptoms_data)\n",
    "  symptoms_data = compute_gi(symptoms_data)\n",
    "  symptoms_data = compute_neuro(symptoms_data)\n",
    "  symptoms_data = compute_derma(symptoms_data)\n",
    "  symptoms_data = compute_ausc(symptoms_data)\n",
    "  symptoms_data = compute_ausc_type(symptoms_data)\n",
    "  # impute target: this imputation is dependant only on the observation itself\n",
    "  df_target=data[targets]\n",
    "  data_total=pd.concat([symptoms_data, df_target] ,axis=1)\n",
    "  data_total = impute_target(data_total)\n",
    "  data_total.drop(remove_all,axis=1,inplace=True)\n",
    "\n",
    "  df_age0=data_total[data_total['age']<=5]\n",
    "  df_age0.drop(remove_age0,axis=1,inplace=True)\n",
    "\n",
    "  df_age1=data_total[data_total['age']>=6]  # 1886 patients\n",
    "  df_age1.drop(remove_age1,axis=1,inplace=True)\n",
    "\n",
    "  data_total.drop([\"age\"],axis=1,inplace=True)\n",
    "  df_age0.drop([\"age\"],axis=1,inplace=True)\n",
    "  df_age1.drop([\"age\"],axis=1,inplace=True)\n",
    "\n",
    "  return data_total, df_age0, df_age1"
   ]
  },
  {
   "cell_type": "markdown",
   "metadata": {
    "id": "a1Am0HKOgnVX"
   },
   "source": [
    "### Preprocess datasets"
   ]
  },
  {
   "cell_type": "code",
   "execution_count": null,
   "metadata": {
    "id": "e3QG6DC6OtvE"
   },
   "outputs": [],
   "source": [
    "data_path = ''\n",
    "data_incidence_path = ''\n",
    "total_data, age0, age1 = pipeline(data_path, data_incidence_path, selected_columns, normals, firsts, targets, incidence=False)"
   ]
  },
  {
   "cell_type": "code",
   "execution_count": null,
   "metadata": {
    "id": "z3PLSHzn92Fp"
   },
   "outputs": [],
   "source": [
    "total_data.to_csv('clean_data_total.csv')\n",
    "age0.to_csv('clean_data_age_0_5.csv')\n",
    "age1.to_csv('clean_data_age_6_17.csv')"
   ]
  }
 ],
 "metadata": {
  "colab": {
   "collapsed_sections": [],
   "name": "Pipeline.ipynb",
   "provenance": []
  },
  "kernelspec": {
   "display_name": "Python 3 (ipykernel)",
   "language": "python",
   "name": "python3"
  },
  "language_info": {
   "codemirror_mode": {
    "name": "ipython",
    "version": 3
   },
   "file_extension": ".py",
   "mimetype": "text/x-python",
   "name": "python",
   "nbconvert_exporter": "python",
   "pygments_lexer": "ipython3",
   "version": "3.8.6"
  }
 },
 "nbformat": 4,
 "nbformat_minor": 4
}
